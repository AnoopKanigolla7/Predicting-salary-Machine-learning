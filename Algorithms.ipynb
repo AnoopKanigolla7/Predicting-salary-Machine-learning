{
 "cells": [
  {
   "cell_type": "markdown",
   "metadata": {},
   "source": [
    "# Group work - Assessment 2"
   ]
  },
  {
   "cell_type": "markdown",
   "metadata": {},
   "source": [
    "In this assignment, we will focus on salary prediction. The data set for this assignment includes information on job descriptions and salaries. Use this data set to see if you can predict the salary of a job posting (i.e., the `Salary` column in the data set) based on the job description. This is important, because this model can make a salary recommendation as soon as a job description is entered into a system."
   ]
  },
  {
   "cell_type": "markdown",
   "metadata": {},
   "source": [
    "## Description of Variables\n",
    "\n",
    "The description of variables are provided in \"Jobs - Data Dictionary.docx\""
   ]
  },
  {
   "cell_type": "markdown",
   "metadata": {},
   "source": [
    "## Goal\n",
    "\n",
    "Use the **jobs_alldata.csv** data set and build models to predict **salary**.\n",
    "\n",
    "**Be careful: this is a REGRESSION task**"
   ]
  },
  {
   "cell_type": "markdown",
   "metadata": {},
   "source": [
    "## Submission:\n",
    "\n",
    "Please save and submit this Jupyter notebook file. The correctness of the code matters for your grade. **Readability and organization of your code is also important.** You may lose points for submitting unreadable/undecipherable code. Therefore, use markdown cells to create sections, and use comments where necessary.\n"
   ]
  },
  {
   "cell_type": "markdown",
   "metadata": {},
   "source": [
    "## Recommended roles for group members:\n",
    "\n",
    "**Section 1:** to be completed by both group members\n",
    "\n",
    "**Section 2:** first three models to be completed by the first group member and checked by the second; last two models to be completed by the second group members and checked by the first group member.\n",
    "\n",
    "**Discussion:** to be completed by both group members\n",
    "\n",
    "**Important notes:**\n",
    "- Both group members will get the same grade. Therefore, you should check the work of your group member. If they make a mistake, you will be responsible for that mistake too.\n",
    "- Both group members must put in their fair share of effort. Otherwise, those who don't contribute to the assignment will not receive any grade.\n"
   ]
  },
  {
   "cell_type": "markdown",
   "metadata": {},
   "source": [
    "# Section 1: (8 points in total)"
   ]
  },
  {
   "cell_type": "markdown",
   "metadata": {},
   "source": [
    "## Data Prep (6 points)"
   ]
  },
  {
   "cell_type": "markdown",
   "metadata": {},
   "source": [
    "# Data prep"
   ]
  },
  {
   "cell_type": "code",
   "execution_count": 455,
   "metadata": {},
   "outputs": [],
   "source": [
    "import numpy as np\n",
    "import pandas as pd\n",
    "\n",
    "np.random.seed(42)"
   ]
  },
  {
   "cell_type": "markdown",
   "metadata": {},
   "source": [
    "# Get data"
   ]
  },
  {
   "cell_type": "code",
   "execution_count": 456,
   "metadata": {},
   "outputs": [
    {
     "data": {
      "text/html": [
       "<div>\n",
       "<style scoped>\n",
       "    .dataframe tbody tr th:only-of-type {\n",
       "        vertical-align: middle;\n",
       "    }\n",
       "\n",
       "    .dataframe tbody tr th {\n",
       "        vertical-align: top;\n",
       "    }\n",
       "\n",
       "    .dataframe thead th {\n",
       "        text-align: right;\n",
       "    }\n",
       "</style>\n",
       "<table border=\"1\" class=\"dataframe\">\n",
       "  <thead>\n",
       "    <tr style=\"text-align: right;\">\n",
       "      <th></th>\n",
       "      <th>Salary</th>\n",
       "      <th>Job Description</th>\n",
       "      <th>Location</th>\n",
       "      <th>Min_years_exp</th>\n",
       "      <th>Technical</th>\n",
       "      <th>Comm</th>\n",
       "      <th>Travel</th>\n",
       "    </tr>\n",
       "  </thead>\n",
       "  <tbody>\n",
       "    <tr>\n",
       "      <th>0</th>\n",
       "      <td>67206</td>\n",
       "      <td>Civil Service Title: Regional Director Mental ...</td>\n",
       "      <td>Remote</td>\n",
       "      <td>5</td>\n",
       "      <td>2</td>\n",
       "      <td>3</td>\n",
       "      <td>0</td>\n",
       "    </tr>\n",
       "    <tr>\n",
       "      <th>1</th>\n",
       "      <td>88313</td>\n",
       "      <td>The New York City Comptrollerâ€™s Office Burea...</td>\n",
       "      <td>Remote</td>\n",
       "      <td>5</td>\n",
       "      <td>2</td>\n",
       "      <td>4</td>\n",
       "      <td>10-15</td>\n",
       "    </tr>\n",
       "    <tr>\n",
       "      <th>2</th>\n",
       "      <td>81315</td>\n",
       "      <td>With minimal supervision from the Deputy Commi...</td>\n",
       "      <td>East campus</td>\n",
       "      <td>5</td>\n",
       "      <td>3</td>\n",
       "      <td>3</td>\n",
       "      <td>5-10</td>\n",
       "    </tr>\n",
       "    <tr>\n",
       "      <th>3</th>\n",
       "      <td>76426</td>\n",
       "      <td>OPEN TO CURRENT BUSINESS PROMOTION COORDINATOR...</td>\n",
       "      <td>East campus</td>\n",
       "      <td>1</td>\n",
       "      <td>1</td>\n",
       "      <td>3</td>\n",
       "      <td>0</td>\n",
       "    </tr>\n",
       "    <tr>\n",
       "      <th>4</th>\n",
       "      <td>55675</td>\n",
       "      <td>Only candidates who are permanent in the Princ...</td>\n",
       "      <td>Southeast campus</td>\n",
       "      <td>1</td>\n",
       "      <td>1</td>\n",
       "      <td>3</td>\n",
       "      <td>5-10</td>\n",
       "    </tr>\n",
       "  </tbody>\n",
       "</table>\n",
       "</div>"
      ],
      "text/plain": [
       "   Salary                                    Job Description  \\\n",
       "0   67206  Civil Service Title: Regional Director Mental ...   \n",
       "1   88313  The New York City Comptrollerâ€™s Office Burea...   \n",
       "2   81315  With minimal supervision from the Deputy Commi...   \n",
       "3   76426  OPEN TO CURRENT BUSINESS PROMOTION COORDINATOR...   \n",
       "4   55675  Only candidates who are permanent in the Princ...   \n",
       "\n",
       "           Location  Min_years_exp  Technical  Comm Travel  \n",
       "0            Remote              5          2     3      0  \n",
       "1            Remote              5          2     4  10-15  \n",
       "2       East campus              5          3     3   5-10  \n",
       "3       East campus              1          1     3      0  \n",
       "4  Southeast campus              1          1     3   5-10  "
      ]
     },
     "execution_count": 456,
     "metadata": {},
     "output_type": "execute_result"
    }
   ],
   "source": [
    "jobs = pd.read_csv('jobs_alldata.csv')\n",
    "jobs.head()"
   ]
  },
  {
   "cell_type": "markdown",
   "metadata": {},
   "source": [
    "# split the data into train and test"
   ]
  },
  {
   "cell_type": "code",
   "execution_count": 457,
   "metadata": {},
   "outputs": [],
   "source": [
    "from sklearn.model_selection import train_test_split\n",
    "train_set, test_set = train_test_split(jobs, test_size=0.3)"
   ]
  },
  {
   "cell_type": "code",
   "execution_count": 458,
   "metadata": {},
   "outputs": [
    {
     "data": {
      "text/plain": [
       "Salary             0\n",
       "Job Description    0\n",
       "Location           0\n",
       "Min_years_exp      0\n",
       "Technical          0\n",
       "Comm               0\n",
       "Travel             0\n",
       "dtype: int64"
      ]
     },
     "execution_count": 458,
     "metadata": {},
     "output_type": "execute_result"
    }
   ],
   "source": [
    "train_set.isna().sum()"
   ]
  },
  {
   "cell_type": "code",
   "execution_count": 459,
   "metadata": {},
   "outputs": [
    {
     "data": {
      "text/plain": [
       "Salary             0\n",
       "Job Description    0\n",
       "Location           0\n",
       "Min_years_exp      0\n",
       "Technical          0\n",
       "Comm               0\n",
       "Travel             0\n",
       "dtype: int64"
      ]
     },
     "execution_count": 459,
     "metadata": {},
     "output_type": "execute_result"
    }
   ],
   "source": [
    "test_set.isna().sum()"
   ]
  },
  {
   "cell_type": "code",
   "execution_count": 460,
   "metadata": {},
   "outputs": [],
   "source": [
    "from sklearn.compose import ColumnTransformer\n",
    "from sklearn.pipeline import Pipeline\n",
    "from sklearn.impute import SimpleImputer\n",
    "from sklearn.preprocessing import StandardScaler\n",
    "from sklearn.preprocessing import OneHotEncoder\n",
    "\n",
    "from sklearn.preprocessing import FunctionTransformer"
   ]
  },
  {
   "cell_type": "code",
   "execution_count": 461,
   "metadata": {},
   "outputs": [],
   "source": [
    "train = train_set\n",
    "test = test_set"
   ]
  },
  {
   "cell_type": "markdown",
   "metadata": {},
   "source": [
    "# Separate the target variable"
   ]
  },
  {
   "cell_type": "code",
   "execution_count": 462,
   "metadata": {},
   "outputs": [],
   "source": [
    "train_y = train[['Salary']]\n",
    "test_y = test[['Salary']]\n",
    "\n",
    "train_jd = train['Job Description']\n",
    "test_jd = test['Job Description']\n",
    "\n",
    "train_inputs = train.drop(['Salary','Job Description'], axis=1)\n",
    "test_inputs = test.drop(['Salary', 'Job Description'], axis=1)"
   ]
  },
  {
   "cell_type": "markdown",
   "metadata": {},
   "source": [
    "## Feature Engineering (1 points)\n",
    "\n",
    "Create one NEW feature from existing data. You either transform a single variable, or create a new variable from existing ones. \n",
    "\n",
    "Grading: \n",
    "- 0.5 points for creating the new feature correctly\n",
    "- 0.5 points for the justification of the new feature (i.e., why did you create this new feature)"
   ]
  },
  {
   "cell_type": "markdown",
   "metadata": {},
   "source": [
    "# Formula: All_Skills_rating = Min_years_exp + Technical + Comm"
   ]
  },
  {
   "cell_type": "code",
   "execution_count": 463,
   "metadata": {},
   "outputs": [],
   "source": [
    "#Deriving a new column\n",
    "\n",
    "def new_col(df):\n",
    "    \n",
    "    #Create a copy so that we don't overwrite the existing dataframe\n",
    "    df1 = df.copy()\n",
    "\n",
    "    # Use the formula\n",
    "    df1['All_Skills_rating'] = (df1['Min_years_exp'] + df1['Technical'] + df1['Comm'])\n",
    "\n",
    "    return df1[['All_Skills_rating']]\n",
    "    # You can use this to check whether the calculation is made correctly:\n",
    "    #return df1"
   ]
  },
  {
   "cell_type": "code",
   "execution_count": 464,
   "metadata": {},
   "outputs": [
    {
     "data": {
      "text/html": [
       "<div>\n",
       "<style scoped>\n",
       "    .dataframe tbody tr th:only-of-type {\n",
       "        vertical-align: middle;\n",
       "    }\n",
       "\n",
       "    .dataframe tbody tr th {\n",
       "        vertical-align: top;\n",
       "    }\n",
       "\n",
       "    .dataframe thead th {\n",
       "        text-align: right;\n",
       "    }\n",
       "</style>\n",
       "<table border=\"1\" class=\"dataframe\">\n",
       "  <thead>\n",
       "    <tr style=\"text-align: right;\">\n",
       "      <th></th>\n",
       "      <th>All_Skills_rating</th>\n",
       "    </tr>\n",
       "  </thead>\n",
       "  <tbody>\n",
       "    <tr>\n",
       "      <th>429</th>\n",
       "      <td>8</td>\n",
       "    </tr>\n",
       "    <tr>\n",
       "      <th>1185</th>\n",
       "      <td>10</td>\n",
       "    </tr>\n",
       "    <tr>\n",
       "      <th>2116</th>\n",
       "      <td>9</td>\n",
       "    </tr>\n",
       "    <tr>\n",
       "      <th>2127</th>\n",
       "      <td>12</td>\n",
       "    </tr>\n",
       "    <tr>\n",
       "      <th>458</th>\n",
       "      <td>5</td>\n",
       "    </tr>\n",
       "  </tbody>\n",
       "</table>\n",
       "</div>"
      ],
      "text/plain": [
       "      All_Skills_rating\n",
       "429                   8\n",
       "1185                 10\n",
       "2116                  9\n",
       "2127                 12\n",
       "458                   5"
      ]
     },
     "execution_count": 464,
     "metadata": {},
     "output_type": "execute_result"
    }
   ],
   "source": [
    "#Let's test the new function:\n",
    "\n",
    "# Send the train set to the function we created\n",
    "new_col(train_inputs).head()"
   ]
  },
  {
   "cell_type": "code",
   "execution_count": 465,
   "metadata": {},
   "outputs": [],
   "source": [
    "#Adding feature engineering column to the train_inputs\n",
    "train_inputs['All_Skills_rating'] = new_col(train_inputs)"
   ]
  },
  {
   "cell_type": "code",
   "execution_count": 466,
   "metadata": {},
   "outputs": [
    {
     "data": {
      "text/plain": [
       "Location             object\n",
       "Min_years_exp         int64\n",
       "Technical             int64\n",
       "Comm                  int64\n",
       "Travel               object\n",
       "All_Skills_rating     int64\n",
       "dtype: object"
      ]
     },
     "execution_count": 466,
     "metadata": {},
     "output_type": "execute_result"
    }
   ],
   "source": [
    "train_inputs.dtypes"
   ]
  },
  {
   "cell_type": "code",
   "execution_count": 467,
   "metadata": {},
   "outputs": [],
   "source": [
    "#Adding feature engineering column to the test_inputs\n",
    "test_inputs['All_Skills_rating'] = new_col(test_inputs)"
   ]
  },
  {
   "cell_type": "code",
   "execution_count": 468,
   "metadata": {},
   "outputs": [
    {
     "data": {
      "text/plain": [
       "Location             object\n",
       "Min_years_exp         int64\n",
       "Technical             int64\n",
       "Comm                  int64\n",
       "Travel               object\n",
       "All_Skills_rating     int64\n",
       "dtype: object"
      ]
     },
     "execution_count": 468,
     "metadata": {},
     "output_type": "execute_result"
    }
   ],
   "source": [
    "test_inputs.dtypes"
   ]
  },
  {
   "cell_type": "code",
   "execution_count": 469,
   "metadata": {},
   "outputs": [
    {
     "data": {
      "text/plain": [
       "((1689, 6), (724, 6))"
      ]
     },
     "execution_count": 469,
     "metadata": {},
     "output_type": "execute_result"
    }
   ],
   "source": [
    "train_inputs.shape,test_inputs.shape"
   ]
  },
  {
   "cell_type": "markdown",
   "metadata": {},
   "source": [
    "# Feature Engineering column justification"
   ]
  },
  {
   "cell_type": "code",
   "execution_count": 470,
   "metadata": {},
   "outputs": [],
   "source": [
    "# Higher value of All_Skills_rating column indicates the level of skills required for the job role and \n",
    "# this impacts the Salary column."
   ]
  },
  {
   "cell_type": "markdown",
   "metadata": {},
   "source": [
    "## Find the Baseline (1 point)"
   ]
  },
  {
   "cell_type": "code",
   "execution_count": 471,
   "metadata": {},
   "outputs": [],
   "source": [
    "from sklearn.metrics import mean_squared_error"
   ]
  },
  {
   "cell_type": "code",
   "execution_count": 472,
   "metadata": {},
   "outputs": [
    {
     "data": {
      "text/plain": [
       "78566.0307874482"
      ]
     },
     "execution_count": 472,
     "metadata": {},
     "output_type": "execute_result"
    }
   ],
   "source": [
    "#First find the average value of the target\n",
    "\n",
    "mean_value = np.mean(train_y['Salary'])\n",
    "\n",
    "mean_value"
   ]
  },
  {
   "cell_type": "code",
   "execution_count": 473,
   "metadata": {},
   "outputs": [
    {
     "data": {
      "text/plain": [
       "array([78566.03078745, 78566.03078745, 78566.03078745, 78566.03078745,\n",
       "       78566.03078745, 78566.03078745, 78566.03078745, 78566.03078745,\n",
       "       78566.03078745, 78566.03078745, 78566.03078745, 78566.03078745,\n",
       "       78566.03078745, 78566.03078745, 78566.03078745, 78566.03078745,\n",
       "       78566.03078745, 78566.03078745, 78566.03078745, 78566.03078745,\n",
       "       78566.03078745, 78566.03078745, 78566.03078745, 78566.03078745,\n",
       "       78566.03078745, 78566.03078745, 78566.03078745, 78566.03078745,\n",
       "       78566.03078745, 78566.03078745, 78566.03078745, 78566.03078745,\n",
       "       78566.03078745, 78566.03078745, 78566.03078745, 78566.03078745,\n",
       "       78566.03078745, 78566.03078745, 78566.03078745, 78566.03078745,\n",
       "       78566.03078745, 78566.03078745, 78566.03078745, 78566.03078745,\n",
       "       78566.03078745, 78566.03078745, 78566.03078745, 78566.03078745,\n",
       "       78566.03078745, 78566.03078745, 78566.03078745, 78566.03078745,\n",
       "       78566.03078745, 78566.03078745, 78566.03078745, 78566.03078745,\n",
       "       78566.03078745, 78566.03078745, 78566.03078745, 78566.03078745,\n",
       "       78566.03078745, 78566.03078745, 78566.03078745, 78566.03078745,\n",
       "       78566.03078745, 78566.03078745, 78566.03078745, 78566.03078745,\n",
       "       78566.03078745, 78566.03078745, 78566.03078745, 78566.03078745,\n",
       "       78566.03078745, 78566.03078745, 78566.03078745, 78566.03078745,\n",
       "       78566.03078745, 78566.03078745, 78566.03078745, 78566.03078745,\n",
       "       78566.03078745, 78566.03078745, 78566.03078745, 78566.03078745,\n",
       "       78566.03078745, 78566.03078745, 78566.03078745, 78566.03078745,\n",
       "       78566.03078745, 78566.03078745, 78566.03078745, 78566.03078745,\n",
       "       78566.03078745, 78566.03078745, 78566.03078745, 78566.03078745,\n",
       "       78566.03078745, 78566.03078745, 78566.03078745, 78566.03078745,\n",
       "       78566.03078745, 78566.03078745, 78566.03078745, 78566.03078745,\n",
       "       78566.03078745, 78566.03078745, 78566.03078745, 78566.03078745,\n",
       "       78566.03078745, 78566.03078745, 78566.03078745, 78566.03078745,\n",
       "       78566.03078745, 78566.03078745, 78566.03078745, 78566.03078745,\n",
       "       78566.03078745, 78566.03078745, 78566.03078745, 78566.03078745,\n",
       "       78566.03078745, 78566.03078745, 78566.03078745, 78566.03078745,\n",
       "       78566.03078745, 78566.03078745, 78566.03078745, 78566.03078745,\n",
       "       78566.03078745, 78566.03078745, 78566.03078745, 78566.03078745,\n",
       "       78566.03078745, 78566.03078745, 78566.03078745, 78566.03078745,\n",
       "       78566.03078745, 78566.03078745, 78566.03078745, 78566.03078745,\n",
       "       78566.03078745, 78566.03078745, 78566.03078745, 78566.03078745,\n",
       "       78566.03078745, 78566.03078745, 78566.03078745, 78566.03078745,\n",
       "       78566.03078745, 78566.03078745, 78566.03078745, 78566.03078745,\n",
       "       78566.03078745, 78566.03078745, 78566.03078745, 78566.03078745,\n",
       "       78566.03078745, 78566.03078745, 78566.03078745, 78566.03078745,\n",
       "       78566.03078745, 78566.03078745, 78566.03078745, 78566.03078745,\n",
       "       78566.03078745, 78566.03078745, 78566.03078745, 78566.03078745,\n",
       "       78566.03078745, 78566.03078745, 78566.03078745, 78566.03078745,\n",
       "       78566.03078745, 78566.03078745, 78566.03078745, 78566.03078745,\n",
       "       78566.03078745, 78566.03078745, 78566.03078745, 78566.03078745,\n",
       "       78566.03078745, 78566.03078745, 78566.03078745, 78566.03078745,\n",
       "       78566.03078745, 78566.03078745, 78566.03078745, 78566.03078745,\n",
       "       78566.03078745, 78566.03078745, 78566.03078745, 78566.03078745,\n",
       "       78566.03078745, 78566.03078745, 78566.03078745, 78566.03078745,\n",
       "       78566.03078745, 78566.03078745, 78566.03078745, 78566.03078745,\n",
       "       78566.03078745, 78566.03078745, 78566.03078745, 78566.03078745,\n",
       "       78566.03078745, 78566.03078745, 78566.03078745, 78566.03078745,\n",
       "       78566.03078745, 78566.03078745, 78566.03078745, 78566.03078745,\n",
       "       78566.03078745, 78566.03078745, 78566.03078745, 78566.03078745,\n",
       "       78566.03078745, 78566.03078745, 78566.03078745, 78566.03078745,\n",
       "       78566.03078745, 78566.03078745, 78566.03078745, 78566.03078745,\n",
       "       78566.03078745, 78566.03078745, 78566.03078745, 78566.03078745,\n",
       "       78566.03078745, 78566.03078745, 78566.03078745, 78566.03078745,\n",
       "       78566.03078745, 78566.03078745, 78566.03078745, 78566.03078745,\n",
       "       78566.03078745, 78566.03078745, 78566.03078745, 78566.03078745,\n",
       "       78566.03078745, 78566.03078745, 78566.03078745, 78566.03078745,\n",
       "       78566.03078745, 78566.03078745, 78566.03078745, 78566.03078745,\n",
       "       78566.03078745, 78566.03078745, 78566.03078745, 78566.03078745,\n",
       "       78566.03078745, 78566.03078745, 78566.03078745, 78566.03078745,\n",
       "       78566.03078745, 78566.03078745, 78566.03078745, 78566.03078745,\n",
       "       78566.03078745, 78566.03078745, 78566.03078745, 78566.03078745,\n",
       "       78566.03078745, 78566.03078745, 78566.03078745, 78566.03078745,\n",
       "       78566.03078745, 78566.03078745, 78566.03078745, 78566.03078745,\n",
       "       78566.03078745, 78566.03078745, 78566.03078745, 78566.03078745,\n",
       "       78566.03078745, 78566.03078745, 78566.03078745, 78566.03078745,\n",
       "       78566.03078745, 78566.03078745, 78566.03078745, 78566.03078745,\n",
       "       78566.03078745, 78566.03078745, 78566.03078745, 78566.03078745,\n",
       "       78566.03078745, 78566.03078745, 78566.03078745, 78566.03078745,\n",
       "       78566.03078745, 78566.03078745, 78566.03078745, 78566.03078745,\n",
       "       78566.03078745, 78566.03078745, 78566.03078745, 78566.03078745,\n",
       "       78566.03078745, 78566.03078745, 78566.03078745, 78566.03078745,\n",
       "       78566.03078745, 78566.03078745, 78566.03078745, 78566.03078745,\n",
       "       78566.03078745, 78566.03078745, 78566.03078745, 78566.03078745,\n",
       "       78566.03078745, 78566.03078745, 78566.03078745, 78566.03078745,\n",
       "       78566.03078745, 78566.03078745, 78566.03078745, 78566.03078745,\n",
       "       78566.03078745, 78566.03078745, 78566.03078745, 78566.03078745,\n",
       "       78566.03078745, 78566.03078745, 78566.03078745, 78566.03078745,\n",
       "       78566.03078745, 78566.03078745, 78566.03078745, 78566.03078745,\n",
       "       78566.03078745, 78566.03078745, 78566.03078745, 78566.03078745,\n",
       "       78566.03078745, 78566.03078745, 78566.03078745, 78566.03078745,\n",
       "       78566.03078745, 78566.03078745, 78566.03078745, 78566.03078745,\n",
       "       78566.03078745, 78566.03078745, 78566.03078745, 78566.03078745,\n",
       "       78566.03078745, 78566.03078745, 78566.03078745, 78566.03078745,\n",
       "       78566.03078745, 78566.03078745, 78566.03078745, 78566.03078745,\n",
       "       78566.03078745, 78566.03078745, 78566.03078745, 78566.03078745,\n",
       "       78566.03078745, 78566.03078745, 78566.03078745, 78566.03078745,\n",
       "       78566.03078745, 78566.03078745, 78566.03078745, 78566.03078745,\n",
       "       78566.03078745, 78566.03078745, 78566.03078745, 78566.03078745,\n",
       "       78566.03078745, 78566.03078745, 78566.03078745, 78566.03078745,\n",
       "       78566.03078745, 78566.03078745, 78566.03078745, 78566.03078745,\n",
       "       78566.03078745, 78566.03078745, 78566.03078745, 78566.03078745,\n",
       "       78566.03078745, 78566.03078745, 78566.03078745, 78566.03078745,\n",
       "       78566.03078745, 78566.03078745, 78566.03078745, 78566.03078745,\n",
       "       78566.03078745, 78566.03078745, 78566.03078745, 78566.03078745,\n",
       "       78566.03078745, 78566.03078745, 78566.03078745, 78566.03078745,\n",
       "       78566.03078745, 78566.03078745, 78566.03078745, 78566.03078745,\n",
       "       78566.03078745, 78566.03078745, 78566.03078745, 78566.03078745,\n",
       "       78566.03078745, 78566.03078745, 78566.03078745, 78566.03078745,\n",
       "       78566.03078745, 78566.03078745, 78566.03078745, 78566.03078745,\n",
       "       78566.03078745, 78566.03078745, 78566.03078745, 78566.03078745,\n",
       "       78566.03078745, 78566.03078745, 78566.03078745, 78566.03078745,\n",
       "       78566.03078745, 78566.03078745, 78566.03078745, 78566.03078745,\n",
       "       78566.03078745, 78566.03078745, 78566.03078745, 78566.03078745,\n",
       "       78566.03078745, 78566.03078745, 78566.03078745, 78566.03078745,\n",
       "       78566.03078745, 78566.03078745, 78566.03078745, 78566.03078745,\n",
       "       78566.03078745, 78566.03078745, 78566.03078745, 78566.03078745,\n",
       "       78566.03078745, 78566.03078745, 78566.03078745, 78566.03078745,\n",
       "       78566.03078745, 78566.03078745, 78566.03078745, 78566.03078745,\n",
       "       78566.03078745, 78566.03078745, 78566.03078745, 78566.03078745,\n",
       "       78566.03078745, 78566.03078745, 78566.03078745, 78566.03078745,\n",
       "       78566.03078745, 78566.03078745, 78566.03078745, 78566.03078745,\n",
       "       78566.03078745, 78566.03078745, 78566.03078745, 78566.03078745,\n",
       "       78566.03078745, 78566.03078745, 78566.03078745, 78566.03078745,\n",
       "       78566.03078745, 78566.03078745, 78566.03078745, 78566.03078745,\n",
       "       78566.03078745, 78566.03078745, 78566.03078745, 78566.03078745,\n",
       "       78566.03078745, 78566.03078745, 78566.03078745, 78566.03078745,\n",
       "       78566.03078745, 78566.03078745, 78566.03078745, 78566.03078745,\n",
       "       78566.03078745, 78566.03078745, 78566.03078745, 78566.03078745,\n",
       "       78566.03078745, 78566.03078745, 78566.03078745, 78566.03078745,\n",
       "       78566.03078745, 78566.03078745, 78566.03078745, 78566.03078745,\n",
       "       78566.03078745, 78566.03078745, 78566.03078745, 78566.03078745,\n",
       "       78566.03078745, 78566.03078745, 78566.03078745, 78566.03078745,\n",
       "       78566.03078745, 78566.03078745, 78566.03078745, 78566.03078745,\n",
       "       78566.03078745, 78566.03078745, 78566.03078745, 78566.03078745,\n",
       "       78566.03078745, 78566.03078745, 78566.03078745, 78566.03078745,\n",
       "       78566.03078745, 78566.03078745, 78566.03078745, 78566.03078745,\n",
       "       78566.03078745, 78566.03078745, 78566.03078745, 78566.03078745,\n",
       "       78566.03078745, 78566.03078745, 78566.03078745, 78566.03078745,\n",
       "       78566.03078745, 78566.03078745, 78566.03078745, 78566.03078745,\n",
       "       78566.03078745, 78566.03078745, 78566.03078745, 78566.03078745,\n",
       "       78566.03078745, 78566.03078745, 78566.03078745, 78566.03078745,\n",
       "       78566.03078745, 78566.03078745, 78566.03078745, 78566.03078745,\n",
       "       78566.03078745, 78566.03078745, 78566.03078745, 78566.03078745,\n",
       "       78566.03078745, 78566.03078745, 78566.03078745, 78566.03078745,\n",
       "       78566.03078745, 78566.03078745, 78566.03078745, 78566.03078745,\n",
       "       78566.03078745, 78566.03078745, 78566.03078745, 78566.03078745,\n",
       "       78566.03078745, 78566.03078745, 78566.03078745, 78566.03078745,\n",
       "       78566.03078745, 78566.03078745, 78566.03078745, 78566.03078745,\n",
       "       78566.03078745, 78566.03078745, 78566.03078745, 78566.03078745,\n",
       "       78566.03078745, 78566.03078745, 78566.03078745, 78566.03078745,\n",
       "       78566.03078745, 78566.03078745, 78566.03078745, 78566.03078745,\n",
       "       78566.03078745, 78566.03078745, 78566.03078745, 78566.03078745,\n",
       "       78566.03078745, 78566.03078745, 78566.03078745, 78566.03078745,\n",
       "       78566.03078745, 78566.03078745, 78566.03078745, 78566.03078745,\n",
       "       78566.03078745, 78566.03078745, 78566.03078745, 78566.03078745,\n",
       "       78566.03078745, 78566.03078745, 78566.03078745, 78566.03078745,\n",
       "       78566.03078745, 78566.03078745, 78566.03078745, 78566.03078745,\n",
       "       78566.03078745, 78566.03078745, 78566.03078745, 78566.03078745,\n",
       "       78566.03078745, 78566.03078745, 78566.03078745, 78566.03078745,\n",
       "       78566.03078745, 78566.03078745, 78566.03078745, 78566.03078745,\n",
       "       78566.03078745, 78566.03078745, 78566.03078745, 78566.03078745,\n",
       "       78566.03078745, 78566.03078745, 78566.03078745, 78566.03078745,\n",
       "       78566.03078745, 78566.03078745, 78566.03078745, 78566.03078745,\n",
       "       78566.03078745, 78566.03078745, 78566.03078745, 78566.03078745,\n",
       "       78566.03078745, 78566.03078745, 78566.03078745, 78566.03078745,\n",
       "       78566.03078745, 78566.03078745, 78566.03078745, 78566.03078745,\n",
       "       78566.03078745, 78566.03078745, 78566.03078745, 78566.03078745,\n",
       "       78566.03078745, 78566.03078745, 78566.03078745, 78566.03078745,\n",
       "       78566.03078745, 78566.03078745, 78566.03078745, 78566.03078745,\n",
       "       78566.03078745, 78566.03078745, 78566.03078745, 78566.03078745,\n",
       "       78566.03078745, 78566.03078745, 78566.03078745, 78566.03078745,\n",
       "       78566.03078745, 78566.03078745, 78566.03078745, 78566.03078745,\n",
       "       78566.03078745, 78566.03078745, 78566.03078745, 78566.03078745,\n",
       "       78566.03078745, 78566.03078745, 78566.03078745, 78566.03078745,\n",
       "       78566.03078745, 78566.03078745, 78566.03078745, 78566.03078745,\n",
       "       78566.03078745, 78566.03078745, 78566.03078745, 78566.03078745,\n",
       "       78566.03078745, 78566.03078745, 78566.03078745, 78566.03078745,\n",
       "       78566.03078745, 78566.03078745, 78566.03078745, 78566.03078745,\n",
       "       78566.03078745, 78566.03078745, 78566.03078745, 78566.03078745,\n",
       "       78566.03078745, 78566.03078745, 78566.03078745, 78566.03078745,\n",
       "       78566.03078745, 78566.03078745, 78566.03078745, 78566.03078745,\n",
       "       78566.03078745, 78566.03078745, 78566.03078745, 78566.03078745,\n",
       "       78566.03078745, 78566.03078745, 78566.03078745, 78566.03078745,\n",
       "       78566.03078745, 78566.03078745, 78566.03078745, 78566.03078745,\n",
       "       78566.03078745, 78566.03078745, 78566.03078745, 78566.03078745,\n",
       "       78566.03078745, 78566.03078745, 78566.03078745, 78566.03078745])"
      ]
     },
     "execution_count": 473,
     "metadata": {},
     "output_type": "execute_result"
    }
   ],
   "source": [
    "# Predict all values as the mean\n",
    "\n",
    "baseline_pred = np.repeat(mean_value, len(test_y))\n",
    "\n",
    "baseline_pred"
   ]
  },
  {
   "cell_type": "code",
   "execution_count": 474,
   "metadata": {},
   "outputs": [
    {
     "name": "stdout",
     "output_type": "stream",
     "text": [
      "Baseline RMSE: 28294.892856870818\n"
     ]
    }
   ],
   "source": [
    "baseline_mse = mean_squared_error(test_y, baseline_pred)\n",
    "\n",
    "baseline_rmse = np.sqrt(baseline_mse)\n",
    "\n",
    "print('Baseline RMSE: {}' .format(baseline_rmse))"
   ]
  },
  {
   "cell_type": "code",
   "execution_count": 475,
   "metadata": {},
   "outputs": [
    {
     "data": {
      "text/plain": [
       "429      63407\n",
       "1185    111372\n",
       "2116     79054\n",
       "2127     67864\n",
       "458      88695\n",
       "         ...  \n",
       "1638     44366\n",
       "1095     52753\n",
       "1130     78345\n",
       "1294     87196\n",
       "860      74647\n",
       "Name: Salary, Length: 1689, dtype: int64"
      ]
     },
     "execution_count": 475,
     "metadata": {},
     "output_type": "execute_result"
    }
   ],
   "source": [
    "train_y['Salary']"
   ]
  },
  {
   "cell_type": "markdown",
   "metadata": {},
   "source": [
    "# Identify the numerical and categorical columns"
   ]
  },
  {
   "cell_type": "code",
   "execution_count": 476,
   "metadata": {},
   "outputs": [],
   "source": [
    "# Identify the numerical columns\n",
    "numeric_columns = train_inputs.select_dtypes(include=[np.number]).columns.to_list()\n",
    "\n",
    "# Identify the categorical columns\n",
    "categorical_columns = train_inputs.select_dtypes('object').columns.to_list()"
   ]
  },
  {
   "cell_type": "code",
   "execution_count": 477,
   "metadata": {},
   "outputs": [
    {
     "data": {
      "text/plain": [
       "['Min_years_exp', 'Technical', 'Comm', 'All_Skills_rating']"
      ]
     },
     "execution_count": 477,
     "metadata": {},
     "output_type": "execute_result"
    }
   ],
   "source": [
    "numeric_columns"
   ]
  },
  {
   "cell_type": "code",
   "execution_count": 478,
   "metadata": {},
   "outputs": [
    {
     "data": {
      "text/plain": [
       "['Location', 'Travel']"
      ]
     },
     "execution_count": 478,
     "metadata": {},
     "output_type": "execute_result"
    }
   ],
   "source": [
    "categorical_columns"
   ]
  },
  {
   "cell_type": "code",
   "execution_count": 479,
   "metadata": {},
   "outputs": [],
   "source": [
    "feat_eng_columns = ['Min_years_exp', 'Technical', 'Comm']"
   ]
  },
  {
   "cell_type": "markdown",
   "metadata": {},
   "source": [
    "# Pipeline"
   ]
  },
  {
   "cell_type": "code",
   "execution_count": 480,
   "metadata": {},
   "outputs": [],
   "source": [
    "numeric_transformer = Pipeline(steps=[\n",
    "                ('imputer', SimpleImputer(strategy='median')),\n",
    "                ('scaler', StandardScaler())])\n",
    "\n",
    "categorical_transformer = Pipeline(steps=[\n",
    "    ('imputer', SimpleImputer(strategy='constant', fill_value='unknown')),\n",
    "    ('onehot', OneHotEncoder(handle_unknown='ignore'))])\n",
    "\n",
    "my_new_column = Pipeline(steps=[('my_new_column', FunctionTransformer(new_col)),\n",
    "                               ('scaler', StandardScaler())])\n",
    "\n",
    "preprocessor = ColumnTransformer([\n",
    "        ('num', numeric_transformer, numeric_columns),\n",
    "        ('cat', categorical_transformer, categorical_columns),\n",
    "        ('trans', my_new_column, feat_eng_columns)],\n",
    "        remainder='passthrough')"
   ]
  },
  {
   "cell_type": "markdown",
   "metadata": {},
   "source": [
    "# Transform: fit_transform() for TRAIN"
   ]
  },
  {
   "cell_type": "code",
   "execution_count": 481,
   "metadata": {},
   "outputs": [
    {
     "data": {
      "text/plain": [
       "array([[-1.12955755,  0.59306224,  0.9780514 , ...,  0.        ,\n",
       "         0.        , -0.18370241],\n",
       "       [ 1.0979062 ,  0.59306224, -1.25579419, ...,  1.        ,\n",
       "         0.        ,  0.66403903],\n",
       "       [-1.12955755,  0.59306224,  2.09497419, ...,  0.        ,\n",
       "         0.        ,  0.24016831],\n",
       "       ...,\n",
       "       [-1.12955755,  0.59306224, -1.25579419, ...,  0.        ,\n",
       "         1.        , -1.03144385],\n",
       "       [ 0.54104026, -0.23136749, -0.1388714 , ...,  0.        ,\n",
       "         0.        ,  0.24016831],\n",
       "       [-1.12955755, -0.23136749, -0.1388714 , ...,  0.        ,\n",
       "         0.        , -1.03144385]])"
      ]
     },
     "execution_count": 481,
     "metadata": {},
     "output_type": "execute_result"
    }
   ],
   "source": [
    "#Fit and transform the train data\n",
    "train_x = preprocessor.fit_transform(train_inputs)\n",
    "\n",
    "train_x"
   ]
  },
  {
   "cell_type": "code",
   "execution_count": 482,
   "metadata": {},
   "outputs": [
    {
     "data": {
      "text/plain": [
       "(1689, 14)"
      ]
     },
     "execution_count": 482,
     "metadata": {},
     "output_type": "execute_result"
    }
   ],
   "source": [
    "train_x.shape"
   ]
  },
  {
   "cell_type": "markdown",
   "metadata": {},
   "source": [
    "# Tranform: transform() for TEST"
   ]
  },
  {
   "cell_type": "code",
   "execution_count": 483,
   "metadata": {},
   "outputs": [
    {
     "data": {
      "text/plain": [
       "array([[-1.12955755, -0.23136749, -0.1388714 , ...,  0.        ,\n",
       "         0.        , -1.03144385],\n",
       "       [ 0.54104026,  0.59306224, -2.37271699, ...,  0.        ,\n",
       "         1.        , -0.18370241],\n",
       "       [ 0.54104026,  0.59306224, -1.25579419, ...,  0.        ,\n",
       "         0.        ,  0.24016831],\n",
       "       ...,\n",
       "       [-1.12955755, -0.23136749,  0.9780514 , ...,  0.        ,\n",
       "         0.        , -0.60757313],\n",
       "       [ 0.54104026,  2.24192171, -1.25579419, ...,  0.        ,\n",
       "         0.        ,  1.08790976],\n",
       "       [ 1.0979062 , -1.05579722,  0.9780514 , ...,  0.        ,\n",
       "         0.        ,  0.66403903]])"
      ]
     },
     "execution_count": 483,
     "metadata": {},
     "output_type": "execute_result"
    }
   ],
   "source": [
    "# Transform the test data\n",
    "test_x = preprocessor.transform(test_inputs)\n",
    "\n",
    "test_x"
   ]
  },
  {
   "cell_type": "code",
   "execution_count": 484,
   "metadata": {},
   "outputs": [
    {
     "data": {
      "text/plain": [
       "(724, 14)"
      ]
     },
     "execution_count": 484,
     "metadata": {},
     "output_type": "execute_result"
    }
   ],
   "source": [
    "test_x.shape"
   ]
  },
  {
   "cell_type": "markdown",
   "metadata": {},
   "source": [
    "# NLTP"
   ]
  },
  {
   "cell_type": "code",
   "execution_count": 485,
   "metadata": {},
   "outputs": [
    {
     "name": "stderr",
     "output_type": "stream",
     "text": [
      "[nltk_data] Downloading package punkt to\n",
      "[nltk_data]     C:\\Users\\Anoop\\AppData\\Roaming\\nltk_data...\n",
      "[nltk_data]   Package punkt is already up-to-date!\n",
      "[nltk_data] Downloading package stopwords to\n",
      "[nltk_data]     C:\\Users\\Anoop\\AppData\\Roaming\\nltk_data...\n",
      "[nltk_data]   Package stopwords is already up-to-date!\n",
      "[nltk_data] Downloading package wordnet to\n",
      "[nltk_data]     C:\\Users\\Anoop\\AppData\\Roaming\\nltk_data...\n",
      "[nltk_data]   Package wordnet is already up-to-date!\n"
     ]
    },
    {
     "data": {
      "text/plain": [
       "True"
      ]
     },
     "execution_count": 485,
     "metadata": {},
     "output_type": "execute_result"
    }
   ],
   "source": [
    "import nltk\n",
    "from nltk.corpus import stopwords\n",
    "import re\n",
    "\n",
    "nltk.download('punkt')\n",
    "nltk.download('stopwords')\n",
    "nltk.download('wordnet')"
   ]
  },
  {
   "cell_type": "code",
   "execution_count": 486,
   "metadata": {},
   "outputs": [
    {
     "data": {
      "text/plain": [
       "429     Only candidates who are permanent in the Compu...\n",
       "1185    NYCERS is seeking a Business Analyst with a te...\n",
       "2116    The NYC Department of Environmental Protection...\n",
       "2127    Only Candidates permanent in the Assistant Civ...\n",
       "458     Please read this posting carefully to make cer...\n",
       "Name: Job Description, dtype: object"
      ]
     },
     "execution_count": 486,
     "metadata": {},
     "output_type": "execute_result"
    }
   ],
   "source": [
    "train_jd.head()"
   ]
  },
  {
   "cell_type": "code",
   "execution_count": 487,
   "metadata": {},
   "outputs": [],
   "source": [
    "#Create a blank list\n",
    "\n",
    "new_train = []\n",
    "\n",
    "\n",
    "# For each row in train_set, we will read the text, tokenize it, remove stopwords, lemmatize it, \n",
    "# and save it to the new list\n",
    "\n",
    "for text in train_jd:\n",
    "    text = re.sub(r'[!\"#$%&()*+,-./:;<=>?[\\]^_`{|}~]', ' ', text).lower()\n",
    "        \n",
    "    words= nltk.tokenize.word_tokenize(text)\n",
    "    words = [w for w in words if w.isalpha()]\n",
    "    words = [w for w in words if len(w)>2 and w not in stopwords.words('english')]\n",
    "        \n",
    "    lemmatizer = nltk.stem.WordNetLemmatizer()\n",
    "    words = [lemmatizer.lemmatize(w) for w in words]\n",
    "    new_train.append(' '.join(words))"
   ]
  },
  {
   "cell_type": "code",
   "execution_count": 488,
   "metadata": {},
   "outputs": [
    {
     "data": {
      "text/html": [
       "<div>\n",
       "<style scoped>\n",
       "    .dataframe tbody tr th:only-of-type {\n",
       "        vertical-align: middle;\n",
       "    }\n",
       "\n",
       "    .dataframe tbody tr th {\n",
       "        vertical-align: top;\n",
       "    }\n",
       "\n",
       "    .dataframe thead th {\n",
       "        text-align: right;\n",
       "    }\n",
       "</style>\n",
       "<table border=\"1\" class=\"dataframe\">\n",
       "  <thead>\n",
       "    <tr style=\"text-align: right;\">\n",
       "      <th></th>\n",
       "      <th>Salary</th>\n",
       "      <th>Job Description</th>\n",
       "      <th>Location</th>\n",
       "      <th>Min_years_exp</th>\n",
       "      <th>Technical</th>\n",
       "      <th>Comm</th>\n",
       "      <th>Travel</th>\n",
       "      <th>new_text</th>\n",
       "    </tr>\n",
       "  </thead>\n",
       "  <tbody>\n",
       "    <tr>\n",
       "      <th>429</th>\n",
       "      <td>63407</td>\n",
       "      <td>Only candidates who are permanent in the Compu...</td>\n",
       "      <td>HQ</td>\n",
       "      <td>1</td>\n",
       "      <td>3</td>\n",
       "      <td>4</td>\n",
       "      <td>0</td>\n",
       "      <td>candidate permanent computer system manager ti...</td>\n",
       "    </tr>\n",
       "    <tr>\n",
       "      <th>1185</th>\n",
       "      <td>111372</td>\n",
       "      <td>NYCERS is seeking a Business Analyst with a te...</td>\n",
       "      <td>HQ</td>\n",
       "      <td>5</td>\n",
       "      <td>3</td>\n",
       "      <td>2</td>\n",
       "      <td>10-15</td>\n",
       "      <td>nycers seeking business analyst technical back...</td>\n",
       "    </tr>\n",
       "    <tr>\n",
       "      <th>2116</th>\n",
       "      <td>79054</td>\n",
       "      <td>The NYC Department of Environmental Protection...</td>\n",
       "      <td>HQ</td>\n",
       "      <td>1</td>\n",
       "      <td>3</td>\n",
       "      <td>5</td>\n",
       "      <td>0</td>\n",
       "      <td>nyc department environmental protection dep pr...</td>\n",
       "    </tr>\n",
       "    <tr>\n",
       "      <th>2127</th>\n",
       "      <td>67864</td>\n",
       "      <td>Only Candidates permanent in the Assistant Civ...</td>\n",
       "      <td>Southeast campus</td>\n",
       "      <td>5</td>\n",
       "      <td>4</td>\n",
       "      <td>3</td>\n",
       "      <td>0</td>\n",
       "      <td>candidate permanent assistant civil engineer t...</td>\n",
       "    </tr>\n",
       "    <tr>\n",
       "      <th>458</th>\n",
       "      <td>88695</td>\n",
       "      <td>Please read this posting carefully to make cer...</td>\n",
       "      <td>Remote</td>\n",
       "      <td>1</td>\n",
       "      <td>1</td>\n",
       "      <td>3</td>\n",
       "      <td>0</td>\n",
       "      <td>please read posting carefully make certain mee...</td>\n",
       "    </tr>\n",
       "    <tr>\n",
       "      <th>...</th>\n",
       "      <td>...</td>\n",
       "      <td>...</td>\n",
       "      <td>...</td>\n",
       "      <td>...</td>\n",
       "      <td>...</td>\n",
       "      <td>...</td>\n",
       "      <td>...</td>\n",
       "      <td>...</td>\n",
       "    </tr>\n",
       "    <tr>\n",
       "      <th>1638</th>\n",
       "      <td>44366</td>\n",
       "      <td>NYC Civilian Complaint Review Board  The Civil...</td>\n",
       "      <td>HQ</td>\n",
       "      <td>2</td>\n",
       "      <td>3</td>\n",
       "      <td>3</td>\n",
       "      <td>0</td>\n",
       "      <td>nyc civilian complaint review board civilian c...</td>\n",
       "    </tr>\n",
       "    <tr>\n",
       "      <th>1095</th>\n",
       "      <td>52753</td>\n",
       "      <td>The NYC Department of Environmental Protection...</td>\n",
       "      <td>HQ</td>\n",
       "      <td>1</td>\n",
       "      <td>3</td>\n",
       "      <td>4</td>\n",
       "      <td>0</td>\n",
       "      <td>nyc department environmental protection dep en...</td>\n",
       "    </tr>\n",
       "    <tr>\n",
       "      <th>1130</th>\n",
       "      <td>78345</td>\n",
       "      <td>The NYC Office of Payroll Administration is re...</td>\n",
       "      <td>HQ</td>\n",
       "      <td>1</td>\n",
       "      <td>3</td>\n",
       "      <td>2</td>\n",
       "      <td>5-10</td>\n",
       "      <td>nyc office payroll administration recruiting i...</td>\n",
       "    </tr>\n",
       "    <tr>\n",
       "      <th>1294</th>\n",
       "      <td>87196</td>\n",
       "      <td>HPDTech is the IT division within HPD. Its mis...</td>\n",
       "      <td>Remote</td>\n",
       "      <td>4</td>\n",
       "      <td>2</td>\n",
       "      <td>3</td>\n",
       "      <td>0</td>\n",
       "      <td>hpdtech division within hpd mission identify a...</td>\n",
       "    </tr>\n",
       "    <tr>\n",
       "      <th>860</th>\n",
       "      <td>74647</td>\n",
       "      <td>Only Candidates permanent in the Assistant Civ...</td>\n",
       "      <td>East campus</td>\n",
       "      <td>1</td>\n",
       "      <td>2</td>\n",
       "      <td>3</td>\n",
       "      <td>0</td>\n",
       "      <td>candidate permanent assistant civil engineer t...</td>\n",
       "    </tr>\n",
       "  </tbody>\n",
       "</table>\n",
       "<p>1689 rows × 8 columns</p>\n",
       "</div>"
      ],
      "text/plain": [
       "      Salary                                    Job Description  \\\n",
       "429    63407  Only candidates who are permanent in the Compu...   \n",
       "1185  111372  NYCERS is seeking a Business Analyst with a te...   \n",
       "2116   79054  The NYC Department of Environmental Protection...   \n",
       "2127   67864  Only Candidates permanent in the Assistant Civ...   \n",
       "458    88695  Please read this posting carefully to make cer...   \n",
       "...      ...                                                ...   \n",
       "1638   44366  NYC Civilian Complaint Review Board  The Civil...   \n",
       "1095   52753  The NYC Department of Environmental Protection...   \n",
       "1130   78345  The NYC Office of Payroll Administration is re...   \n",
       "1294   87196  HPDTech is the IT division within HPD. Its mis...   \n",
       "860    74647  Only Candidates permanent in the Assistant Civ...   \n",
       "\n",
       "              Location  Min_years_exp  Technical  Comm Travel  \\\n",
       "429                 HQ              1          3     4      0   \n",
       "1185                HQ              5          3     2  10-15   \n",
       "2116                HQ              1          3     5      0   \n",
       "2127  Southeast campus              5          4     3      0   \n",
       "458             Remote              1          1     3      0   \n",
       "...                ...            ...        ...   ...    ...   \n",
       "1638                HQ              2          3     3      0   \n",
       "1095                HQ              1          3     4      0   \n",
       "1130                HQ              1          3     2   5-10   \n",
       "1294            Remote              4          2     3      0   \n",
       "860        East campus              1          2     3      0   \n",
       "\n",
       "                                               new_text  \n",
       "429   candidate permanent computer system manager ti...  \n",
       "1185  nycers seeking business analyst technical back...  \n",
       "2116  nyc department environmental protection dep pr...  \n",
       "2127  candidate permanent assistant civil engineer t...  \n",
       "458   please read posting carefully make certain mee...  \n",
       "...                                                 ...  \n",
       "1638  nyc civilian complaint review board civilian c...  \n",
       "1095  nyc department environmental protection dep en...  \n",
       "1130  nyc office payroll administration recruiting i...  \n",
       "1294  hpdtech division within hpd mission identify a...  \n",
       "860   candidate permanent assistant civil engineer t...  \n",
       "\n",
       "[1689 rows x 8 columns]"
      ]
     },
     "execution_count": 488,
     "metadata": {},
     "output_type": "execute_result"
    }
   ],
   "source": [
    "# Let's convert the original train_set to a dataframe\n",
    "\n",
    "train_set_df = pd.DataFrame(train_set)\n",
    "\n",
    "train_set_df['new_text'] = new_train\n",
    "\n",
    "train_set_df"
   ]
  },
  {
   "cell_type": "code",
   "execution_count": 489,
   "metadata": {},
   "outputs": [],
   "source": [
    "# Let's do the same for test data \n",
    "\n",
    "new_test = []\n",
    "\n",
    "for text in test_jd:\n",
    "    text = re.sub(r'[!\"#$%&()*+,-./:;<=>?[\\]^_`{|}~]', ' ', text).lower()\n",
    "        \n",
    "    words= nltk.tokenize.word_tokenize(text)\n",
    "    words = [w for w in words if w.isalpha()]\n",
    "    words = [w for w in words if len(w)>2 and w not in stopwords.words('english')]\n",
    "        \n",
    "    lemmatizer = nltk.stem.WordNetLemmatizer()\n",
    "    words = [lemmatizer.lemmatize(w) for w in words]\n",
    "    new_test.append(' '.join(words))\n"
   ]
  },
  {
   "cell_type": "code",
   "execution_count": 490,
   "metadata": {},
   "outputs": [
    {
     "data": {
      "text/html": [
       "<div>\n",
       "<style scoped>\n",
       "    .dataframe tbody tr th:only-of-type {\n",
       "        vertical-align: middle;\n",
       "    }\n",
       "\n",
       "    .dataframe tbody tr th {\n",
       "        vertical-align: top;\n",
       "    }\n",
       "\n",
       "    .dataframe thead th {\n",
       "        text-align: right;\n",
       "    }\n",
       "</style>\n",
       "<table border=\"1\" class=\"dataframe\">\n",
       "  <thead>\n",
       "    <tr style=\"text-align: right;\">\n",
       "      <th></th>\n",
       "      <th>Salary</th>\n",
       "      <th>Job Description</th>\n",
       "      <th>Location</th>\n",
       "      <th>Min_years_exp</th>\n",
       "      <th>Technical</th>\n",
       "      <th>Comm</th>\n",
       "      <th>Travel</th>\n",
       "      <th>new_text</th>\n",
       "    </tr>\n",
       "  </thead>\n",
       "  <tbody>\n",
       "    <tr>\n",
       "      <th>765</th>\n",
       "      <td>149752</td>\n",
       "      <td>The New York City Housing Authority (NYCHA) is...</td>\n",
       "      <td>HQ</td>\n",
       "      <td>1</td>\n",
       "      <td>2</td>\n",
       "      <td>3</td>\n",
       "      <td>0</td>\n",
       "      <td>new york city housing authority nycha largest ...</td>\n",
       "    </tr>\n",
       "    <tr>\n",
       "      <th>2387</th>\n",
       "      <td>64653</td>\n",
       "      <td>Hiring Rate:  $62,272.00  (Flat Rate-Annual)  ...</td>\n",
       "      <td>HQ</td>\n",
       "      <td>4</td>\n",
       "      <td>3</td>\n",
       "      <td>1</td>\n",
       "      <td>5-10</td>\n",
       "      <td>hiring rate flat rate annual mission bureau hi...</td>\n",
       "    </tr>\n",
       "    <tr>\n",
       "      <th>2162</th>\n",
       "      <td>69530</td>\n",
       "      <td>The Executive Director for Regulatory Reform w...</td>\n",
       "      <td>East campus</td>\n",
       "      <td>4</td>\n",
       "      <td>3</td>\n",
       "      <td>2</td>\n",
       "      <td>0</td>\n",
       "      <td>executive director regulatory reform assist im...</td>\n",
       "    </tr>\n",
       "    <tr>\n",
       "      <th>1833</th>\n",
       "      <td>51932</td>\n",
       "      <td>The NYC Department of Environmental Protection...</td>\n",
       "      <td>East campus</td>\n",
       "      <td>2</td>\n",
       "      <td>3</td>\n",
       "      <td>2</td>\n",
       "      <td>0</td>\n",
       "      <td>nyc department environmental protection dep pr...</td>\n",
       "    </tr>\n",
       "    <tr>\n",
       "      <th>1814</th>\n",
       "      <td>60218</td>\n",
       "      <td>The Department of Transportationâ€™s (DOT) mis...</td>\n",
       "      <td>East campus</td>\n",
       "      <td>2</td>\n",
       "      <td>2</td>\n",
       "      <td>2</td>\n",
       "      <td>0</td>\n",
       "      <td>department dot mission provide safe efficient ...</td>\n",
       "    </tr>\n",
       "    <tr>\n",
       "      <th>...</th>\n",
       "      <td>...</td>\n",
       "      <td>...</td>\n",
       "      <td>...</td>\n",
       "      <td>...</td>\n",
       "      <td>...</td>\n",
       "      <td>...</td>\n",
       "      <td>...</td>\n",
       "      <td>...</td>\n",
       "    </tr>\n",
       "    <tr>\n",
       "      <th>2333</th>\n",
       "      <td>58452</td>\n",
       "      <td>The Family Independence Administration/ Office...</td>\n",
       "      <td>HQ</td>\n",
       "      <td>5</td>\n",
       "      <td>4</td>\n",
       "      <td>1</td>\n",
       "      <td>0</td>\n",
       "      <td>family independence administration office rese...</td>\n",
       "    </tr>\n",
       "    <tr>\n",
       "      <th>998</th>\n",
       "      <td>90220</td>\n",
       "      <td>In order to be considered for this position ca...</td>\n",
       "      <td>West campus</td>\n",
       "      <td>5</td>\n",
       "      <td>2</td>\n",
       "      <td>3</td>\n",
       "      <td>0</td>\n",
       "      <td>order considered position candidate must servi...</td>\n",
       "    </tr>\n",
       "    <tr>\n",
       "      <th>891</th>\n",
       "      <td>68328</td>\n",
       "      <td>In accordance to Local Law 196 established in ...</td>\n",
       "      <td>Remote</td>\n",
       "      <td>1</td>\n",
       "      <td>2</td>\n",
       "      <td>4</td>\n",
       "      <td>0</td>\n",
       "      <td>accordance local law established late sb devel...</td>\n",
       "    </tr>\n",
       "    <tr>\n",
       "      <th>1866</th>\n",
       "      <td>92478</td>\n",
       "      <td>About New York City Cyber Command NYC Cyber Co...</td>\n",
       "      <td>Southeast campus</td>\n",
       "      <td>4</td>\n",
       "      <td>5</td>\n",
       "      <td>2</td>\n",
       "      <td>1-5</td>\n",
       "      <td>new york city cyber command nyc cyber command ...</td>\n",
       "    </tr>\n",
       "    <tr>\n",
       "      <th>1731</th>\n",
       "      <td>81091</td>\n",
       "      <td>Only candidates who are permanent in the Civil...</td>\n",
       "      <td>HQ</td>\n",
       "      <td>5</td>\n",
       "      <td>1</td>\n",
       "      <td>4</td>\n",
       "      <td>0</td>\n",
       "      <td>candidate permanent civil engineer title reach...</td>\n",
       "    </tr>\n",
       "  </tbody>\n",
       "</table>\n",
       "<p>724 rows × 8 columns</p>\n",
       "</div>"
      ],
      "text/plain": [
       "      Salary                                    Job Description  \\\n",
       "765   149752  The New York City Housing Authority (NYCHA) is...   \n",
       "2387   64653  Hiring Rate:  $62,272.00  (Flat Rate-Annual)  ...   \n",
       "2162   69530  The Executive Director for Regulatory Reform w...   \n",
       "1833   51932  The NYC Department of Environmental Protection...   \n",
       "1814   60218  The Department of Transportationâ€™s (DOT) mis...   \n",
       "...      ...                                                ...   \n",
       "2333   58452  The Family Independence Administration/ Office...   \n",
       "998    90220  In order to be considered for this position ca...   \n",
       "891    68328  In accordance to Local Law 196 established in ...   \n",
       "1866   92478  About New York City Cyber Command NYC Cyber Co...   \n",
       "1731   81091  Only candidates who are permanent in the Civil...   \n",
       "\n",
       "              Location  Min_years_exp  Technical  Comm Travel  \\\n",
       "765                 HQ              1          2     3      0   \n",
       "2387                HQ              4          3     1   5-10   \n",
       "2162       East campus              4          3     2      0   \n",
       "1833       East campus              2          3     2      0   \n",
       "1814       East campus              2          2     2      0   \n",
       "...                ...            ...        ...   ...    ...   \n",
       "2333                HQ              5          4     1      0   \n",
       "998        West campus              5          2     3      0   \n",
       "891             Remote              1          2     4      0   \n",
       "1866  Southeast campus              4          5     2    1-5   \n",
       "1731                HQ              5          1     4      0   \n",
       "\n",
       "                                               new_text  \n",
       "765   new york city housing authority nycha largest ...  \n",
       "2387  hiring rate flat rate annual mission bureau hi...  \n",
       "2162  executive director regulatory reform assist im...  \n",
       "1833  nyc department environmental protection dep pr...  \n",
       "1814  department dot mission provide safe efficient ...  \n",
       "...                                                 ...  \n",
       "2333  family independence administration office rese...  \n",
       "998   order considered position candidate must servi...  \n",
       "891   accordance local law established late sb devel...  \n",
       "1866  new york city cyber command nyc cyber command ...  \n",
       "1731  candidate permanent civil engineer title reach...  \n",
       "\n",
       "[724 rows x 8 columns]"
      ]
     },
     "execution_count": 490,
     "metadata": {},
     "output_type": "execute_result"
    }
   ],
   "source": [
    "# Let's convert the original test_set to a dataframe\n",
    "\n",
    "test_set_df = pd.DataFrame(test_set)\n",
    "\n",
    "test_set_df['new_text'] = new_test\n",
    "\n",
    "test_set_df"
   ]
  },
  {
   "cell_type": "markdown",
   "metadata": {},
   "source": [
    "# Use Scikit-Learn to create the term-by-doc matrix"
   ]
  },
  {
   "cell_type": "code",
   "execution_count": 491,
   "metadata": {},
   "outputs": [],
   "source": [
    "#Preparing Text column\n",
    "from sklearn.feature_extraction.text import TfidfVectorizer\n",
    "\n",
    "tfidf_vect = TfidfVectorizer(stop_words='english')\n",
    "\n",
    "train_x_tr = tfidf_vect.fit_transform(train_set_df['new_text'])"
   ]
  },
  {
   "cell_type": "code",
   "execution_count": 492,
   "metadata": {},
   "outputs": [],
   "source": [
    "test_x_tr = tfidf_vect.transform(test_set_df['new_text'])"
   ]
  },
  {
   "cell_type": "code",
   "execution_count": 493,
   "metadata": {},
   "outputs": [
    {
     "data": {
      "text/plain": [
       "((1689, 7601), (724, 7601))"
      ]
     },
     "execution_count": 493,
     "metadata": {},
     "output_type": "execute_result"
    }
   ],
   "source": [
    "train_x_tr.shape, test_x_tr.shape"
   ]
  },
  {
   "cell_type": "code",
   "execution_count": 494,
   "metadata": {},
   "outputs": [
    {
     "data": {
      "text/plain": [
       "array([[0., 0., 0., ..., 0., 0., 0.],\n",
       "       [0., 0., 0., ..., 0., 0., 0.],\n",
       "       [0., 0., 0., ..., 0., 0., 0.],\n",
       "       ...,\n",
       "       [0., 0., 0., ..., 0., 0., 0.],\n",
       "       [0., 0., 0., ..., 0., 0., 0.],\n",
       "       [0., 0., 0., ..., 0., 0., 0.]])"
      ]
     },
     "execution_count": 494,
     "metadata": {},
     "output_type": "execute_result"
    }
   ],
   "source": [
    "train_x_tr.toarray()"
   ]
  },
  {
   "cell_type": "markdown",
   "metadata": {},
   "source": [
    "# Latent Semantic Analysis (Singular Value Decomposition)"
   ]
  },
  {
   "cell_type": "code",
   "execution_count": 495,
   "metadata": {},
   "outputs": [],
   "source": [
    "from sklearn.decomposition import TruncatedSVD"
   ]
  },
  {
   "cell_type": "code",
   "execution_count": 496,
   "metadata": {},
   "outputs": [],
   "source": [
    "#Though the recommended number of components is 100, Components = 900 is giving the accuracy that I am looking for\n",
    "svd = TruncatedSVD(n_components=900, n_iter=10)"
   ]
  },
  {
   "cell_type": "code",
   "execution_count": 497,
   "metadata": {},
   "outputs": [],
   "source": [
    "train_x_lsa = svd.fit_transform(train_x_tr)"
   ]
  },
  {
   "cell_type": "code",
   "execution_count": 498,
   "metadata": {},
   "outputs": [
    {
     "data": {
      "text/plain": [
       "0.912923285274816"
      ]
     },
     "execution_count": 498,
     "metadata": {},
     "output_type": "execute_result"
    }
   ],
   "source": [
    "#Checking the accuracy between old and new text\n",
    "svd.explained_variance_.sum()"
   ]
  },
  {
   "cell_type": "code",
   "execution_count": 499,
   "metadata": {},
   "outputs": [],
   "source": [
    "test_x_lsa = svd.transform(test_x_tr)"
   ]
  },
  {
   "cell_type": "code",
   "execution_count": 500,
   "metadata": {},
   "outputs": [
    {
     "data": {
      "text/plain": [
       "((1689, 900), (724, 900))"
      ]
     },
     "execution_count": 500,
     "metadata": {},
     "output_type": "execute_result"
    }
   ],
   "source": [
    "train_x_lsa.shape, test_x_lsa.shape"
   ]
  },
  {
   "cell_type": "code",
   "execution_count": 501,
   "metadata": {},
   "outputs": [],
   "source": [
    "#numpy.column_stack() function is used to stack 1-D arrays as columns into a 2-D array.\n",
    "#It takes a sequence of 1-D arrays and stack them as columns to make a single 2-D array. \n",
    "#2-D arrays are stacked as-is, just like with hstack function.\n",
    "\n",
    "#Took reference from GeeksForGeeks website\n",
    "#https://www.geeksforgeeks.org/numpy-column_stack-in-python/#:~:text=column_stack()%20in%20Python,-Last%20Updated%20%3A%2006&text=06%20Jan%2C%202019-,numpy.,a%20single%202%2DD%20array.\n",
    "\n",
    "train_x_f = np.column_stack((train_x, train_x_lsa))\n",
    "test_x_f = np.column_stack((test_x, test_x_lsa))"
   ]
  },
  {
   "cell_type": "code",
   "execution_count": 502,
   "metadata": {},
   "outputs": [
    {
     "data": {
      "text/plain": [
       "((1689, 914), (724, 914))"
      ]
     },
     "execution_count": 502,
     "metadata": {},
     "output_type": "execute_result"
    }
   ],
   "source": [
    "#Originally, we have 13 columns after transformation. Additional 900 is the components\n",
    "#that we added in SVD and remaining one coulumn is the feature engineering column. So, total is 914 columns.\n",
    "\n",
    "train_x_f.shape, test_x_f.shape"
   ]
  },
  {
   "cell_type": "code",
   "execution_count": 503,
   "metadata": {},
   "outputs": [
    {
     "data": {
      "text/plain": [
       "array([[-1.12955755e+00,  5.93062241e-01,  9.78051400e-01, ...,\n",
       "         2.10066276e-02,  2.54190553e-03,  9.33061728e-03],\n",
       "       [ 1.09790620e+00,  5.93062241e-01, -1.25579419e+00, ...,\n",
       "        -2.69833610e-02,  1.25536820e-02, -3.83894005e-03],\n",
       "       [-1.12955755e+00,  5.93062241e-01,  2.09497419e+00, ...,\n",
       "         1.04969676e-02, -5.53207241e-03, -1.33599972e-03],\n",
       "       ...,\n",
       "       [-1.12955755e+00,  5.93062241e-01, -1.25579419e+00, ...,\n",
       "        -4.63752472e-03, -6.26138321e-03,  1.14273150e-03],\n",
       "       [ 5.41040262e-01, -2.31367492e-01, -1.38871395e-01, ...,\n",
       "        -2.59409649e-04,  2.21338577e-03, -2.40872348e-04],\n",
       "       [-1.12955755e+00, -2.31367492e-01, -1.38871395e-01, ...,\n",
       "        -2.45485968e-02, -6.72106191e-03, -2.24047983e-02]])"
      ]
     },
     "execution_count": 503,
     "metadata": {},
     "output_type": "execute_result"
    }
   ],
   "source": [
    "train_x_f"
   ]
  },
  {
   "cell_type": "markdown",
   "metadata": {},
   "source": [
    "# Section 2: (7 points in total)\n",
    "\n",
    "Build the following models:\n"
   ]
  },
  {
   "cell_type": "markdown",
   "metadata": {},
   "source": [
    "## Decision Tree: (1 point)"
   ]
  },
  {
   "cell_type": "code",
   "execution_count": 504,
   "metadata": {},
   "outputs": [
    {
     "data": {
      "text/plain": [
       "DecisionTreeRegressor(ccp_alpha=0.0, criterion='mse', max_depth=None,\n",
       "                      max_features=None, max_leaf_nodes=None,\n",
       "                      min_impurity_decrease=0.0, min_impurity_split=None,\n",
       "                      min_samples_leaf=5, min_samples_split=2,\n",
       "                      min_weight_fraction_leaf=0.0, presort='deprecated',\n",
       "                      random_state=None, splitter='best')"
      ]
     },
     "execution_count": 504,
     "metadata": {},
     "output_type": "execute_result"
    }
   ],
   "source": [
    "from sklearn.tree import DecisionTreeRegressor\n",
    "\n",
    "tree_reg = DecisionTreeRegressor(min_samples_leaf = 5) \n",
    "\n",
    "tree_reg.fit(train_x_f, train_y)"
   ]
  },
  {
   "cell_type": "code",
   "execution_count": 505,
   "metadata": {},
   "outputs": [
    {
     "name": "stdout",
     "output_type": "stream",
     "text": [
      "Train RMSE: 8557.589931368513\n"
     ]
    }
   ],
   "source": [
    "#Train RMSE\n",
    "train_pred = tree_reg.predict(train_x_f)\n",
    "\n",
    "train_mse = mean_squared_error(train_y, train_pred)\n",
    "\n",
    "train_rmse = np.sqrt(train_mse)\n",
    "\n",
    "print('Train RMSE: {}' .format(train_rmse))"
   ]
  },
  {
   "cell_type": "code",
   "execution_count": 506,
   "metadata": {},
   "outputs": [
    {
     "name": "stdout",
     "output_type": "stream",
     "text": [
      "Test RMSE: 22736.253615259124\n"
     ]
    }
   ],
   "source": [
    "#Test RMSE\n",
    "test_pred = tree_reg.predict(test_x_f)\n",
    "\n",
    "test_mse = mean_squared_error(test_y, test_pred)\n",
    "\n",
    "test_rmse = np.sqrt(test_mse)\n",
    "\n",
    "print('Test RMSE: {}' .format(test_rmse))"
   ]
  },
  {
   "cell_type": "markdown",
   "metadata": {},
   "source": [
    "# More regularization"
   ]
  },
  {
   "cell_type": "code",
   "execution_count": 507,
   "metadata": {},
   "outputs": [
    {
     "data": {
      "text/plain": [
       "DecisionTreeRegressor(ccp_alpha=0.0, criterion='mse', max_depth=9,\n",
       "                      max_features=None, max_leaf_nodes=None,\n",
       "                      min_impurity_decrease=0.0, min_impurity_split=None,\n",
       "                      min_samples_leaf=5, min_samples_split=2,\n",
       "                      min_weight_fraction_leaf=0.0, presort='deprecated',\n",
       "                      random_state=None, splitter='best')"
      ]
     },
     "execution_count": 507,
     "metadata": {},
     "output_type": "execute_result"
    }
   ],
   "source": [
    "#Let's restrict the depth as well\n",
    "\n",
    "tree_reg2 = DecisionTreeRegressor(min_samples_leaf = 5, max_depth=9) \n",
    "\n",
    "tree_reg2.fit(train_x_f, train_y)"
   ]
  },
  {
   "cell_type": "code",
   "execution_count": 508,
   "metadata": {},
   "outputs": [
    {
     "name": "stdout",
     "output_type": "stream",
     "text": [
      "Train RMSE: 14927.460359323686\n"
     ]
    }
   ],
   "source": [
    "#Train RMSE\n",
    "train_pred = tree_reg2.predict(train_x_f)\n",
    "\n",
    "train_mse = mean_squared_error(train_y, train_pred)\n",
    "\n",
    "train_rmse = np.sqrt(train_mse)\n",
    "\n",
    "print('Train RMSE: {}' .format(train_rmse))"
   ]
  },
  {
   "cell_type": "code",
   "execution_count": 509,
   "metadata": {},
   "outputs": [
    {
     "name": "stdout",
     "output_type": "stream",
     "text": [
      "Test RMSE: 21729.214985989558\n"
     ]
    }
   ],
   "source": [
    "#Test RMSE\n",
    "test_pred = tree_reg2.predict(test_x_f)\n",
    "\n",
    "test_mse = mean_squared_error(test_y, test_pred)\n",
    "\n",
    "test_rmse = np.sqrt(test_mse)\n",
    "\n",
    "print('Test RMSE: {}' .format(test_rmse))"
   ]
  },
  {
   "cell_type": "code",
   "execution_count": 510,
   "metadata": {},
   "outputs": [
    {
     "name": "stdout",
     "output_type": "stream",
     "text": [
      "# Max depth = 1     Train RMSE = 28012.1019   Test RMSE = 27220.6129\n",
      "# Max depth = 2     Train RMSE = 26792.2037   Test RMSE = 26793.9856\n",
      "# Max depth = 3     Train RMSE = 25602.0399   Test RMSE = 26419.4344\n",
      "# Max depth = 4     Train RMSE = 24422.9618   Test RMSE = 25250.6478\n",
      "# Max depth = 5     Train RMSE = 23213.9422   Test RMSE = 24343.5532\n",
      "# Max depth = 6     Train RMSE = 21644.2733   Test RMSE = 24323.2437\n",
      "# Max depth = 7     Train RMSE = 19833.75   Test RMSE = 23225.5081\n",
      "# Max depth = 8     Train RMSE = 18066.4886   Test RMSE = 21597.7416\n",
      "# Max depth = 9     Train RMSE = 16069.235   Test RMSE = 22198.6526\n",
      "# Max depth = 10     Train RMSE = 14517.2358   Test RMSE = 22591.4876\n",
      "# Max depth = 11     Train RMSE = 13428.6013   Test RMSE = 22935.2465\n",
      "# Max depth = 12     Train RMSE = 12198.9502   Test RMSE = 21210.9728\n",
      "# Max depth = 13     Train RMSE = 11054.1863   Test RMSE = 21668.5756\n",
      "# Max depth = 14     Train RMSE = 9962.3402   Test RMSE = 22308.1236\n",
      "# Max depth = 15     Train RMSE = 8574.9453   Test RMSE = 21902.1436\n",
      "# Max depth = 16     Train RMSE = 7223.6661   Test RMSE = 21759.0259\n",
      "# Max depth = 17     Train RMSE = 6104.715   Test RMSE = 21310.3027\n",
      "# Max depth = 18     Train RMSE = 5084.1312   Test RMSE = 21147.2558\n",
      "# Max depth = 19     Train RMSE = 4222.7919   Test RMSE = 20187.1005\n",
      "# Max depth = 20     Train RMSE = 3375.0578   Test RMSE = 21877.5943\n",
      "# Max depth = 21     Train RMSE = 2635.805   Test RMSE = 21236.4948\n",
      "# Max depth = 22     Train RMSE = 1814.4161   Test RMSE = 21785.969\n",
      "# Max depth = 23     Train RMSE = 1247.5316   Test RMSE = 21167.7924\n",
      "# Max depth = 24     Train RMSE = 864.0531   Test RMSE = 20627.6052\n",
      "# Max depth = 25     Train RMSE = 667.657   Test RMSE = 22011.8935\n",
      "# Max depth = 26     Train RMSE = 586.7133   Test RMSE = 21067.0997\n",
      "# Max depth = 27     Train RMSE = 560.4557   Test RMSE = 20353.4513\n",
      "# Max depth = 28     Train RMSE = 553.4267   Test RMSE = 20891.1954\n",
      "# Max depth = 29     Train RMSE = 551.5155   Test RMSE = 21103.1387\n",
      "# Max depth = 30     Train RMSE = 551.4762   Test RMSE = 21496.809\n"
     ]
    }
   ],
   "source": [
    "train_error = []\n",
    "test_error = []\n",
    "\n",
    "for x in range(1,31):\n",
    "    tree_reg3 = DecisionTreeRegressor(max_depth=x)\n",
    "    tree_reg3.fit(train_x_f, train_y)\n",
    "    reg_train_predictions = tree_reg3.predict(train_x_f)\n",
    "    reg_test_predictions = tree_reg3.predict(test_x_f)\n",
    "    train_rmse = round(np.sqrt(mean_squared_error (train_y, reg_train_predictions)),4)\n",
    "    test_rmse = round(np.sqrt(mean_squared_error (test_y, reg_test_predictions)),4)\n",
    "    print('# Max depth = {}'.format(x) + \"     \" +'Train RMSE = {}'.format(train_rmse) + \"   \"\n",
    "         'Test RMSE = {}'.format(test_rmse))\n",
    "    \n",
    "    train_error.append(train_rmse)\n",
    "    test_error.append(test_rmse)"
   ]
  },
  {
   "cell_type": "code",
   "execution_count": 511,
   "metadata": {},
   "outputs": [
    {
     "data": {
      "text/plain": [
       "<matplotlib.legend.Legend at 0x1cb3c507e48>"
      ]
     },
     "execution_count": 511,
     "metadata": {},
     "output_type": "execute_result"
    },
    {
     "data": {
      "image/png": "[encoded data removed]",
      "text/plain": [
       "<Figure size 432x288 with 1 Axes>"
      ]
     },
     "metadata": {
      "needs_background": "light"
     },
     "output_type": "display_data"
    }
   ],
   "source": [
    "from matplotlib import pyplot as plt\n",
    "\n",
    "plt.plot(train_error, label='Train')\n",
    "plt.plot(test_error, label='Test')\n",
    "plt.xlabel(\"max Depth\")\n",
    "plt.ylabel(\"Error\")\n",
    "plt.legend()"
   ]
  },
  {
   "cell_type": "markdown",
   "metadata": {},
   "source": [
    "## Voting regressor (2 points):\n",
    "\n",
    "The voting regressor should have at least 3 individual models"
   ]
  },
  {
   "cell_type": "code",
   "execution_count": 512,
   "metadata": {},
   "outputs": [
    {
     "name": "stderr",
     "output_type": "stream",
     "text": [
      "C:\\Users\\Anoop\\anaconda3\\lib\\site-packages\\sklearn\\ensemble\\_voting.py:406: DataConversionWarning: A column-vector y was passed when a 1d array was expected. Please change the shape of y to (n_samples, ), for example using ravel().\n",
      "  y = column_or_1d(y, warn=True)\n"
     ]
    },
    {
     "data": {
      "text/plain": [
       "VotingRegressor(estimators=[('dt',\n",
       "                             DecisionTreeRegressor(ccp_alpha=0.0,\n",
       "                                                   criterion='mse',\n",
       "                                                   max_depth=20,\n",
       "                                                   max_features=None,\n",
       "                                                   max_leaf_nodes=None,\n",
       "                                                   min_impurity_decrease=0.0,\n",
       "                                                   min_impurity_split=None,\n",
       "                                                   min_samples_leaf=1,\n",
       "                                                   min_samples_split=2,\n",
       "                                                   min_weight_fraction_leaf=0.0,\n",
       "                                                   presort='deprecated',\n",
       "                                                   random_state=None,\n",
       "                                                   splitter='best')),\n",
       "                            ('svr',\n",
       "                             SVR(C=10, cache_size=200, coef0=0...\n",
       "                             SGDRegressor(alpha=0.0001, average=False,\n",
       "                                          early_stopping=False, epsilon=0.1,\n",
       "                                          eta0=0.01, fit_intercept=True,\n",
       "                                          l1_ratio=0.15,\n",
       "                                          learning_rate='invscaling',\n",
       "                                          loss='squared_loss', max_iter=10000,\n",
       "                                          n_iter_no_change=5, penalty='l2',\n",
       "                                          power_t=0.25, random_state=None,\n",
       "                                          shuffle=True, tol=0.001,\n",
       "                                          validation_fraction=0.1, verbose=0,\n",
       "                                          warm_start=False))],\n",
       "                n_jobs=None, weights=[0.5, 0.3, 0.2])"
      ]
     },
     "execution_count": 512,
     "metadata": {},
     "output_type": "execute_result"
    }
   ],
   "source": [
    "from sklearn.tree import DecisionTreeRegressor\n",
    "from sklearn.linear_model import SGDRegressor \n",
    "from sklearn.svm import SVR \n",
    "from sklearn.ensemble import VotingRegressor\n",
    "\n",
    "\n",
    "dtree_reg = DecisionTreeRegressor(max_depth=20)\n",
    "svm_reg = SVR(kernel=\"rbf\", C=10, epsilon=0.01, gamma='scale') \n",
    "sgd_reg = SGDRegressor(max_iter=10000, tol=1e-3)\n",
    "\n",
    "voting_reg = VotingRegressor(\n",
    "            estimators=[('dt', dtree_reg), ('svr', svm_reg), ('sgd', sgd_reg)],\n",
    "                        weights=[0.5, 0.3, 0.2])\n",
    "\n",
    "voting_reg.fit(train_x_f, train_y)"
   ]
  },
  {
   "cell_type": "code",
   "execution_count": 513,
   "metadata": {},
   "outputs": [
    {
     "name": "stdout",
     "output_type": "stream",
     "text": [
      "Train RMSE: 11167.992267779264\n"
     ]
    }
   ],
   "source": [
    "#Train RMSE\n",
    "train_pred = voting_reg.predict(train_x_f)\n",
    "\n",
    "train_mse = mean_squared_error(train_y, train_pred)\n",
    "\n",
    "train_rmse = np.sqrt(train_mse)\n",
    "\n",
    "print('Train RMSE: {}' .format(train_rmse))"
   ]
  },
  {
   "cell_type": "code",
   "execution_count": 514,
   "metadata": {},
   "outputs": [
    {
     "name": "stdout",
     "output_type": "stream",
     "text": [
      "Test RMSE: 18190.6056738363\n"
     ]
    }
   ],
   "source": [
    "#Test RMSE\n",
    "test_pred = voting_reg.predict(test_x_f)\n",
    "\n",
    "test_mse = mean_squared_error(test_y, test_pred)\n",
    "\n",
    "test_rmse = np.sqrt(test_mse)\n",
    "\n",
    "print('Test RMSE: {}' .format(test_rmse))"
   ]
  },
  {
   "cell_type": "markdown",
   "metadata": {},
   "source": [
    "## A Boosting model: (1 point)\n",
    "\n",
    "Build either an Adaboost or a GradientBoost model"
   ]
  },
  {
   "cell_type": "code",
   "execution_count": 515,
   "metadata": {},
   "outputs": [
    {
     "name": "stderr",
     "output_type": "stream",
     "text": [
      "C:\\Users\\Anoop\\anaconda3\\lib\\site-packages\\sklearn\\ensemble\\_gb.py:1454: DataConversionWarning: A column-vector y was passed when a 1d array was expected. Please change the shape of y to (n_samples, ), for example using ravel().\n",
      "  y = column_or_1d(y, warn=True)\n"
     ]
    },
    {
     "data": {
      "text/plain": [
       "GradientBoostingRegressor(alpha=0.9, ccp_alpha=0.0, criterion='friedman_mse',\n",
       "                          init=None, learning_rate=0.1, loss='ls', max_depth=2,\n",
       "                          max_features=None, max_leaf_nodes=None,\n",
       "                          min_impurity_decrease=0.0, min_impurity_split=None,\n",
       "                          min_samples_leaf=1, min_samples_split=2,\n",
       "                          min_weight_fraction_leaf=0.0, n_estimators=100,\n",
       "                          n_iter_no_change=None, presort='deprecated',\n",
       "                          random_state=None, subsample=1.0, tol=0.0001,\n",
       "                          validation_fraction=0.1, verbose=0, warm_start=False)"
      ]
     },
     "execution_count": 515,
     "metadata": {},
     "output_type": "execute_result"
    }
   ],
   "source": [
    "#GradientBoosting\n",
    "\n",
    "from sklearn.ensemble import GradientBoostingRegressor\n",
    "\n",
    "gb_reg = GradientBoostingRegressor(max_depth=2, n_estimators=100, learning_rate=0.1) \n",
    "\n",
    "gb_reg.fit(train_x_f, train_y)"
   ]
  },
  {
   "cell_type": "code",
   "execution_count": 516,
   "metadata": {},
   "outputs": [
    {
     "name": "stdout",
     "output_type": "stream",
     "text": [
      "Train RMSE: 17611.102943890503\n"
     ]
    }
   ],
   "source": [
    "#Train RMSE\n",
    "train_pred = gb_reg.predict(train_x_f)\n",
    "\n",
    "train_mse = mean_squared_error(train_y, train_pred)\n",
    "\n",
    "train_rmse = np.sqrt(train_mse)\n",
    "\n",
    "print('Train RMSE: {}' .format(train_rmse))"
   ]
  },
  {
   "cell_type": "code",
   "execution_count": 517,
   "metadata": {},
   "outputs": [
    {
     "name": "stdout",
     "output_type": "stream",
     "text": [
      "Test RMSE: 21014.759502613615\n"
     ]
    }
   ],
   "source": [
    "#Test RMSE\n",
    "test_pred = gb_reg.predict(test_x_f)\n",
    "\n",
    "test_mse = mean_squared_error(test_y, test_pred)\n",
    "\n",
    "test_rmse = np.sqrt(test_mse)\n",
    "\n",
    "print('Test RMSE: {}' .format(test_rmse))"
   ]
  },
  {
   "cell_type": "markdown",
   "metadata": {},
   "source": [
    "## Neural network: (1 point)"
   ]
  },
  {
   "cell_type": "code",
   "execution_count": 518,
   "metadata": {},
   "outputs": [
    {
     "name": "stderr",
     "output_type": "stream",
     "text": [
      "C:\\Users\\Anoop\\anaconda3\\lib\\site-packages\\sklearn\\neural_network\\_multilayer_perceptron.py:1342: DataConversionWarning: A column-vector y was passed when a 1d array was expected. Please change the shape of y to (n_samples, ), for example using ravel().\n",
      "  y = column_or_1d(y, warn=True)\n",
      "C:\\Users\\Anoop\\anaconda3\\lib\\site-packages\\sklearn\\neural_network\\_multilayer_perceptron.py:571: ConvergenceWarning: Stochastic Optimizer: Maximum iterations (1000) reached and the optimization hasn't converged yet.\n",
      "  % self.max_iter, ConvergenceWarning)\n"
     ]
    },
    {
     "data": {
      "text/plain": [
       "MLPRegressor(activation='relu', alpha=0.0001, batch_size='auto', beta_1=0.9,\n",
       "             beta_2=0.999, early_stopping=False, epsilon=1e-08,\n",
       "             hidden_layer_sizes=(100,), learning_rate='constant',\n",
       "             learning_rate_init=0.001, max_fun=15000, max_iter=1000,\n",
       "             momentum=0.9, n_iter_no_change=10, nesterovs_momentum=True,\n",
       "             power_t=0.5, random_state=None, shuffle=True, solver='adam',\n",
       "             tol=0.0001, validation_fraction=0.1, verbose=False,\n",
       "             warm_start=False)"
      ]
     },
     "execution_count": 518,
     "metadata": {},
     "output_type": "execute_result"
    }
   ],
   "source": [
    "from sklearn.neural_network import MLPRegressor\n",
    "\n",
    "#Default settings create 1 hidden layer with 100 neurons\n",
    "mlp_reg = MLPRegressor(hidden_layer_sizes=(100,), max_iter=1000)\n",
    "\n",
    "mlp_reg.fit(train_x_f, train_y)\n"
   ]
  },
  {
   "cell_type": "code",
   "execution_count": 519,
   "metadata": {},
   "outputs": [
    {
     "name": "stdout",
     "output_type": "stream",
     "text": [
      "Train RMSE: 56016.17241699511\n"
     ]
    }
   ],
   "source": [
    "#Train RMSE\n",
    "train_pred = mlp_reg.predict(train_x_f)\n",
    "\n",
    "train_mse = mean_squared_error(train_y, train_pred)\n",
    "\n",
    "train_rmse = np.sqrt(train_mse)\n",
    "\n",
    "print('Train RMSE: {}' .format(train_rmse))"
   ]
  },
  {
   "cell_type": "code",
   "execution_count": 520,
   "metadata": {},
   "outputs": [
    {
     "name": "stdout",
     "output_type": "stream",
     "text": [
      "Test RMSE: 54058.007225801004\n"
     ]
    }
   ],
   "source": [
    "#Test RMSE\n",
    "test_pred = mlp_reg.predict(test_x_f)\n",
    "\n",
    "test_mse = mean_squared_error(test_y, test_pred)\n",
    "\n",
    "test_rmse = np.sqrt(test_mse)\n",
    "\n",
    "print('Test RMSE: {}' .format(test_rmse))"
   ]
  },
  {
   "cell_type": "markdown",
   "metadata": {},
   "source": [
    "# Deep Neural Network"
   ]
  },
  {
   "cell_type": "code",
   "execution_count": 521,
   "metadata": {},
   "outputs": [
    {
     "name": "stderr",
     "output_type": "stream",
     "text": [
      "C:\\Users\\Anoop\\anaconda3\\lib\\site-packages\\sklearn\\neural_network\\_multilayer_perceptron.py:1342: DataConversionWarning: A column-vector y was passed when a 1d array was expected. Please change the shape of y to (n_samples, ), for example using ravel().\n",
      "  y = column_or_1d(y, warn=True)\n"
     ]
    },
    {
     "data": {
      "text/plain": [
       "MLPRegressor(activation='relu', alpha=0.0001, batch_size='auto', beta_1=0.9,\n",
       "             beta_2=0.999, early_stopping=False, epsilon=1e-08,\n",
       "             hidden_layer_sizes=(50, 50, 50, 50, 50), learning_rate='constant',\n",
       "             learning_rate_init=0.001, max_fun=15000, max_iter=1000,\n",
       "             momentum=0.9, n_iter_no_change=10, nesterovs_momentum=True,\n",
       "             power_t=0.5, random_state=None, shuffle=True, solver='adam',\n",
       "             tol=0.0001, validation_fraction=0.1, verbose=False,\n",
       "             warm_start=False)"
      ]
     },
     "execution_count": 521,
     "metadata": {},
     "output_type": "execute_result"
    }
   ],
   "source": [
    "#values with regular Neural Network are very bad. Trying Deep Neural Network\n",
    "dnn_reg = MLPRegressor(hidden_layer_sizes=(50,50,50,50,50),\n",
    "                       max_iter=1000)\n",
    "\n",
    "dnn_reg.fit(train_x_f, train_y)"
   ]
  },
  {
   "cell_type": "code",
   "execution_count": 522,
   "metadata": {},
   "outputs": [
    {
     "name": "stdout",
     "output_type": "stream",
     "text": [
      "Train RMSE: 918.5957879849074\n"
     ]
    }
   ],
   "source": [
    "#Train RMSE\n",
    "train_pred = dnn_reg.predict(train_x_f)\n",
    "\n",
    "train_mse = mean_squared_error(train_y, train_pred)\n",
    "\n",
    "train_rmse = np.sqrt(train_mse)\n",
    "\n",
    "print('Train RMSE: {}' .format(train_rmse))"
   ]
  },
  {
   "cell_type": "code",
   "execution_count": 523,
   "metadata": {},
   "outputs": [
    {
     "name": "stdout",
     "output_type": "stream",
     "text": [
      "Test RMSE: 18651.23634385771\n"
     ]
    }
   ],
   "source": [
    "#Test RMSE\n",
    "test_pred = dnn_reg.predict(test_x_f)\n",
    "\n",
    "test_mse = mean_squared_error(test_y, test_pred)\n",
    "\n",
    "test_rmse = np.sqrt(test_mse)\n",
    "\n",
    "print('Test RMSE: {}' .format(test_rmse))"
   ]
  },
  {
   "cell_type": "markdown",
   "metadata": {},
   "source": [
    "# Early Stopping"
   ]
  },
  {
   "cell_type": "code",
   "execution_count": 524,
   "metadata": {},
   "outputs": [
    {
     "name": "stderr",
     "output_type": "stream",
     "text": [
      "C:\\Users\\Anoop\\anaconda3\\lib\\site-packages\\sklearn\\neural_network\\_multilayer_perceptron.py:1342: DataConversionWarning: A column-vector y was passed when a 1d array was expected. Please change the shape of y to (n_samples, ), for example using ravel().\n",
      "  y = column_or_1d(y, warn=True)\n"
     ]
    },
    {
     "data": {
      "text/plain": [
       "MLPRegressor(activation='relu', alpha=0.0001, batch_size='auto', beta_1=0.9,\n",
       "             beta_2=0.999, early_stopping=True, epsilon=1e-08,\n",
       "             hidden_layer_sizes=(50, 50, 50), learning_rate='constant',\n",
       "             learning_rate_init=0.001, max_fun=15000, max_iter=1000,\n",
       "             momentum=0.9, n_iter_no_change=10, nesterovs_momentum=True,\n",
       "             power_t=0.5, random_state=None, shuffle=True, solver='adam',\n",
       "             tol=0.0001, validation_fraction=0.1, verbose=False,\n",
       "             warm_start=False)"
      ]
     },
     "execution_count": 524,
     "metadata": {},
     "output_type": "execute_result"
    }
   ],
   "source": [
    "dnn_reg = MLPRegressor(hidden_layer_sizes=(50,50,50),\n",
    "                       max_iter=1000,\n",
    "                       early_stopping=True)\n",
    "\n",
    "dnn_reg.fit(train_x_f, train_y)"
   ]
  },
  {
   "cell_type": "code",
   "execution_count": 525,
   "metadata": {},
   "outputs": [
    {
     "name": "stdout",
     "output_type": "stream",
     "text": [
      "Train RMSE: 10015.291302741867\n"
     ]
    }
   ],
   "source": [
    "#Train RMSE\n",
    "train_pred = dnn_reg.predict(train_x_f)\n",
    "\n",
    "train_mse = mean_squared_error(train_y, train_pred)\n",
    "\n",
    "train_rmse = np.sqrt(train_mse)\n",
    "\n",
    "print('Train RMSE: {}' .format(train_rmse))"
   ]
  },
  {
   "cell_type": "code",
   "execution_count": 526,
   "metadata": {},
   "outputs": [
    {
     "name": "stdout",
     "output_type": "stream",
     "text": [
      "Test RMSE: 17770.787448580115\n"
     ]
    }
   ],
   "source": [
    "#Test RMSE\n",
    "test_pred = dnn_reg.predict(test_x_f)\n",
    "\n",
    "test_mse = mean_squared_error(test_y, test_pred)\n",
    "\n",
    "test_rmse = np.sqrt(test_mse)\n",
    "\n",
    "print('Test RMSE: {}' .format(test_rmse))"
   ]
  },
  {
   "cell_type": "markdown",
   "metadata": {},
   "source": [
    "## Grid search (2 points)\n",
    "\n",
    "Perform either a full or randomized grid search on any model you want. There has to be at least two parameters for the search. "
   ]
  },
  {
   "cell_type": "code",
   "execution_count": 527,
   "metadata": {},
   "outputs": [
    {
     "name": "stdout",
     "output_type": "stream",
     "text": [
      "Fitting 5 folds for each of 10 candidates, totalling 50 fits\n"
     ]
    },
    {
     "name": "stderr",
     "output_type": "stream",
     "text": [
      "[Parallel(n_jobs=1)]: Using backend SequentialBackend with 1 concurrent workers.\n",
      "[Parallel(n_jobs=1)]: Done  50 out of  50 | elapsed:   33.7s finished\n"
     ]
    },
    {
     "data": {
      "text/plain": [
       "RandomizedSearchCV(cv=5, error_score=nan,\n",
       "                   estimator=DecisionTreeRegressor(ccp_alpha=0.0,\n",
       "                                                   criterion='mse',\n",
       "                                                   max_depth=None,\n",
       "                                                   max_features=None,\n",
       "                                                   max_leaf_nodes=None,\n",
       "                                                   min_impurity_decrease=0.0,\n",
       "                                                   min_impurity_split=None,\n",
       "                                                   min_samples_leaf=1,\n",
       "                                                   min_samples_split=2,\n",
       "                                                   min_weight_fraction_leaf=0.0,\n",
       "                                                   presort='deprecated',\n",
       "                                                   random_state=None,\n",
       "                                                   splitter='best'),\n",
       "                   iid='deprecated', n_iter=10, n_jobs=None,\n",
       "                   param_distributions=[{'max_depth': array([10, 11, 12, 13, 14, 15, 16, 17, 18, 19, 20, 21, 22, 23, 24, 25, 26,\n",
       "       27, 28, 29]),\n",
       "                                         'min_samples_leaf': array([10, 11, 12, 13, 14, 15, 16, 17, 18, 19, 20, 21, 22, 23, 24, 25, 26,\n",
       "       27, 28, 29])}],\n",
       "                   pre_dispatch='2*n_jobs', random_state=None, refit=True,\n",
       "                   return_train_score=True, scoring='neg_mean_squared_error',\n",
       "                   verbose=1)"
      ]
     },
     "execution_count": 527,
     "metadata": {},
     "output_type": "execute_result"
    }
   ],
   "source": [
    "#Randomized Grid Search\n",
    "from sklearn.model_selection import RandomizedSearchCV\n",
    "\n",
    "param_grid = [\n",
    "    {'min_samples_leaf': np.arange(10, 30), \n",
    "     'max_depth': np.arange(10,30)}\n",
    "  ]\n",
    "\n",
    "tree_reg = DecisionTreeRegressor()\n",
    "\n",
    "grid_search = RandomizedSearchCV(tree_reg, param_grid, cv=5, n_iter=10,\n",
    "                           scoring='neg_mean_squared_error', verbose=1,\n",
    "                           return_train_score=True)\n",
    "\n",
    "grid_search.fit(train_x_f, train_y)"
   ]
  },
  {
   "cell_type": "code",
   "execution_count": 528,
   "metadata": {},
   "outputs": [
    {
     "name": "stdout",
     "output_type": "stream",
     "text": [
      "27254.96121090102 {'min_samples_leaf': 10, 'max_depth': 13}\n",
      "26890.112556274144 {'min_samples_leaf': 21, 'max_depth': 11}\n",
      "27722.072513243707 {'min_samples_leaf': 23, 'max_depth': 19}\n",
      "27322.78631472362 {'min_samples_leaf': 29, 'max_depth': 22}\n",
      "27435.481159956646 {'min_samples_leaf': 24, 'max_depth': 21}\n",
      "27274.808463308436 {'min_samples_leaf': 17, 'max_depth': 11}\n",
      "26988.924967018458 {'min_samples_leaf': 21, 'max_depth': 26}\n",
      "27205.58117183476 {'min_samples_leaf': 11, 'max_depth': 16}\n",
      "27171.550546838826 {'min_samples_leaf': 27, 'max_depth': 19}\n",
      "27344.71864199888 {'min_samples_leaf': 17, 'max_depth': 21}\n"
     ]
    }
   ],
   "source": [
    "cvres = grid_search.cv_results_\n",
    "\n",
    "for mean_score, params in zip(cvres[\"mean_test_score\"], cvres[\"params\"]):\n",
    "    print(np.sqrt(-mean_score), params)"
   ]
  },
  {
   "cell_type": "code",
   "execution_count": 529,
   "metadata": {},
   "outputs": [
    {
     "data": {
      "text/plain": [
       "{'min_samples_leaf': 21, 'max_depth': 11}"
      ]
     },
     "execution_count": 529,
     "metadata": {},
     "output_type": "execute_result"
    }
   ],
   "source": [
    "grid_search.best_params_"
   ]
  },
  {
   "cell_type": "code",
   "execution_count": 530,
   "metadata": {},
   "outputs": [
    {
     "data": {
      "text/plain": [
       "DecisionTreeRegressor(ccp_alpha=0.0, criterion='mse', max_depth=11,\n",
       "                      max_features=None, max_leaf_nodes=None,\n",
       "                      min_impurity_decrease=0.0, min_impurity_split=None,\n",
       "                      min_samples_leaf=21, min_samples_split=2,\n",
       "                      min_weight_fraction_leaf=0.0, presort='deprecated',\n",
       "                      random_state=None, splitter='best')"
      ]
     },
     "execution_count": 530,
     "metadata": {},
     "output_type": "execute_result"
    }
   ],
   "source": [
    "grid_search.best_estimator_"
   ]
  },
  {
   "cell_type": "code",
   "execution_count": 531,
   "metadata": {},
   "outputs": [
    {
     "name": "stdout",
     "output_type": "stream",
     "text": [
      "Train RMSE: 19025.849902106867\n"
     ]
    }
   ],
   "source": [
    "#Train RMSE\n",
    "train_pred = grid_search.best_estimator_.predict(train_x_f)\n",
    "\n",
    "train_mse = mean_squared_error(train_y, train_pred)\n",
    "\n",
    "train_rmse = np.sqrt(train_mse)\n",
    "\n",
    "print('Train RMSE: {}' .format(train_rmse))"
   ]
  },
  {
   "cell_type": "code",
   "execution_count": 532,
   "metadata": {},
   "outputs": [
    {
     "name": "stdout",
     "output_type": "stream",
     "text": [
      "Test RMSE: 25302.228880648116\n"
     ]
    }
   ],
   "source": [
    "#Test RMSE\n",
    "test_pred = grid_search.best_estimator_.predict(test_x_f)\n",
    "\n",
    "test_mse = mean_squared_error(test_y, test_pred)\n",
    "\n",
    "test_rmse = np.sqrt(test_mse)\n",
    "\n",
    "print('Test RMSE: {}' .format(test_rmse))"
   ]
  },
  {
   "cell_type": "markdown",
   "metadata": {},
   "source": [
    "# Discussion (5 points in total)\n"
   ]
  },
  {
   "cell_type": "markdown",
   "metadata": {},
   "source": [
    "## List the train and test values of each model you built (2 points)"
   ]
  },
  {
   "cell_type": "raw",
   "metadata": {},
   "source": [
    "Baseline RMSE: 28294.89\n",
    "\n",
    "    Model\t\t\t\t   Train RMSE\t\t    Test RMSE\n",
    "Decision Tree\t\t\t\t 8557.59\t\t\t22309.38\n",
    "More Regularization \t\t14927.46\t\t\t21893.66\n",
    "Voting Regressor\t\t\t11099.05\t\t\t18420.36\n",
    "Gradient Boosting\t\t\t17611.10\t\t\t21029.31\n",
    "Neural Network\t\t\t\t58427.57\t\t\t56444.35\n",
    "Deep Neural Network\t\t\t  675.37\t\t\t19002.04\n",
    "Early Stopping              10647.77            17992.51\n",
    "Randomized Grid Search\t\t18740.64\t\t\t25311.83"
   ]
  },
  {
   "cell_type": "markdown",
   "metadata": {},
   "source": [
    "# Which model performs the best and why? (0.5 points) "
   ]
  },
  {
   "cell_type": "raw",
   "metadata": {},
   "source": [
    "The Deep Neural Network model with Early stopping performs the best because it outperforms other models, with a test RMSE of 17992.51."
   ]
  },
  {
   "cell_type": "markdown",
   "metadata": {},
   "source": [
    "# How does it compare to baseline? (0.5 points)\n",
    "\n",
    "Hint: The best model is the one that has the highest TEST score (regardless of any of the training values). If you select your model based on TRAIN values, you will lose points."
   ]
  },
  {
   "cell_type": "raw",
   "metadata": {},
   "source": [
    "It performs better than the baseline RMSE, which is 28294.89."
   ]
  },
  {
   "cell_type": "markdown",
   "metadata": {},
   "source": [
    "## Is there any evidence of overfitting in the best model, why or why not? If there is, what did you do about it? (1 point)"
   ]
  },
  {
   "cell_type": "raw",
   "metadata": {},
   "source": [
    "There is no evidence of overfitting because the train and test RMSE values are 10647.77 and 17992.51, respectively. The addition of Early Stopping has resulted in a smaller difference between the train and test RMSE values."
   ]
  },
  {
   "cell_type": "markdown",
   "metadata": {},
   "source": [
    "## Is there any overfitting in the other models (besides the best model), why or why not? If there is, what did you do about it? (1 point)"
   ]
  },
  {
   "cell_type": "raw",
   "metadata": {},
   "source": [
    "Overfitting is clearly evident in Deep Neural Network model as it has a train RMSE of 675.37 and test RMSE of 19002.04. Enabling Early Stopping helped reduce overfitting."
   ]
  }
 ],
 "metadata": {
  "kernelspec": {
   "display_name": "Python 3",
   "language": "python",
   "name": "python3"
  },
  "language_info": {
   "codemirror_mode": {
    "name": "ipython",
    "version": 3
   },
   "file_extension": ".py",
   "mimetype": "text/x-python",
   "name": "python",
   "nbconvert_exporter": "python",
   "pygments_lexer": "ipython3",
   "version": "3.7.6"
  },
  "toc": {
   "base_numbering": 1,
   "nav_menu": {},
   "number_sections": false,
   "sideBar": true,
   "skip_h1_title": false,
   "title_cell": "Table of Contents",
   "title_sidebar": "Contents",
   "toc_cell": false,
   "toc_position": {},
   "toc_section_display": true,
   "toc_window_display": false
  }
 },
 "nbformat": 4,
 "nbformat_minor": 2
}
